{
 "cells": [
  {
   "cell_type": "code",
   "execution_count": 1,
   "id": "062c2b26-8a10-4205-8fb5-e4fac1af57b5",
   "metadata": {},
   "outputs": [],
   "source": [
    "import pandas as pd\n",
    "import numpy as np\n",
    "import matplotlib.pyplot as plt\n",
    "import seaborn as sns \n",
    "import warnings\n",
    "warnings.filterwarnings('ignore')"
   ]
  },
  {
   "cell_type": "code",
   "execution_count": 2,
   "id": "3b139a11-f643-4411-94e3-38534be9bbdb",
   "metadata": {},
   "outputs": [],
   "source": [
    "df = pd.read_csv('Train.csv')"
   ]
  },
  {
   "cell_type": "code",
   "execution_count": 3,
   "id": "ce0b1d59-88e0-4273-b098-0e18188b954f",
   "metadata": {},
   "outputs": [
    {
     "data": {
      "text/plain": [
       "ecec20         5\n",
       "hp20           5\n",
       "xhp20          5\n",
       "BulkDensity    4\n",
       "dtype: int64"
      ]
     },
     "execution_count": 3,
     "metadata": {},
     "output_type": "execute_result"
    }
   ],
   "source": [
    "df.isnull().sum()[df.isnull().sum()!=0]"
   ]
  },
  {
   "cell_type": "code",
   "execution_count": 4,
   "id": "cc9023d7-2346-4620-afcb-2ea7b7c29422",
   "metadata": {},
   "outputs": [],
   "source": [
    "for column in df.columns:\n",
    "  if df[column].isnull().any():\n",
    "    df[column].fillna(df[column].mean(), inplace=True)\n",
    "    "
   ]
  },
  {
   "cell_type": "code",
   "execution_count": 5,
   "id": "1b144c30-ed50-4e5f-8ece-d9cf52c9383a",
   "metadata": {},
   "outputs": [],
   "source": [
    "# Load datasets\n",
    "train_df = pd.read_csv('Train.csv')\n",
    "test_df = pd.read_csv('Test.csv')\n",
    "train_gap_df = pd.read_csv('Gap_Train.csv')\n",
    "test_gap_df = pd.read_csv('Gap_Test.csv')\n",
    "sample_submission = pd.read_csv('SampleSubmission.csv')"
   ]
  },
  {
   "cell_type": "code",
   "execution_count": 6,
   "id": "9884f84c-0ffa-4d6f-a5fa-6c15cdcf98c7",
   "metadata": {},
   "outputs": [],
   "source": [
    "df.drop(columns=['site','lon','lat'],inplace=True)\n",
    "test_df.drop(columns=['site','lon','lat'],inplace=True)"
   ]
  },
  {
   "cell_type": "code",
   "execution_count": 7,
   "id": "9d871609-f4ae-4268-a1c1-3db1f64d8d37",
   "metadata": {},
   "outputs": [],
   "source": [
    "modis_1=pd.read_csv('modis_1_clean.csv')\n",
    "modis_2=pd.read_csv('modis_2_clean.csv')\n",
    "modis_3=pd.read_csv('modis_3_clean.csv')\n",
    "modis_4=pd.read_csv('modis_4_clean.csv')\n",
    "modis_5=pd.read_csv('modis_5_clean.csv')\n",
    "sentinel_1=pd.read_csv('sentinel_1_clean.csv')\n",
    "sentinel_2=pd.read_csv('sentinel_2_clean.csv')\n",
    "landsat=pd.read_csv('landsat_clean.csv')"
   ]
  },
  {
   "cell_type": "code",
   "execution_count": 8,
   "id": "016badc7-eea3-4784-8a20-1c78fd3eb5a3",
   "metadata": {},
   "outputs": [],
   "source": [
    "landsat['date'] = pd.to_datetime(landsat['date'])\n",
    "modis_1['date'] = pd.to_datetime(modis_1['date'])\n",
    "modis_2['date'] = pd.to_datetime(modis_2['date'])\n",
    "modis_3['date'] = pd.to_datetime(modis_3['date'])\n",
    "modis_4['date'] = pd.to_datetime(modis_4['date'])\n",
    "modis_5['date'] = pd.to_datetime(modis_5['date'])\n",
    "sentinel_1['date'] = pd.to_datetime(sentinel_1['date'])\n",
    "sentinel_2['date'] = pd.to_datetime(sentinel_2['date'])"
   ]
  },
  {
   "cell_type": "code",
   "execution_count": 9,
   "id": "799a05b9-8a45-4eab-9b60-209c425ceb57",
   "metadata": {},
   "outputs": [],
   "source": [
    "satelite_df=pd.DataFrame()\n",
    "satelite_test_df=pd.DataFrame()"
   ]
  },
  {
   "cell_type": "code",
   "execution_count": 10,
   "id": "ad78d769-e214-44ee-b020-e69da0c6565a",
   "metadata": {},
   "outputs": [],
   "source": [
    "satelite_df['PID']=df['PID']\n",
    "satelite_test_df['PID']=test_df['PID']"
   ]
  },
  {
   "cell_type": "code",
   "execution_count": 11,
   "id": "98873e52-85a5-4060-8184-35b469b06f3e",
   "metadata": {},
   "outputs": [],
   "source": [
    "date_range = pd.date_range(start='2017-01-01', end='2019-12-31', freq='D')\n",
    "def expand_with_dates(df, date_range):\n",
    "    return (\n",
    "        df[['PID']]\n",
    "        .drop_duplicates()\n",
    "        .assign(key=1)\n",
    "        .merge(pd.DataFrame({'date': date_range, 'key': 1}), on='key')\n",
    "        .drop(columns='key')\n",
    "        .sort_values(['PID', 'date'])\n",
    "        .reset_index(drop=True)\n",
    "    )\n",
    "satelite_df = expand_with_dates(satelite_df, date_range)\n",
    "satelite_test_df = expand_with_dates(satelite_test_df, date_range)\n"
   ]
  },
  {
   "cell_type": "markdown",
   "id": "deadb02b-e991-4dfb-90c0-50e075edc8aa",
   "metadata": {},
   "source": [
    "# merging"
   ]
  },
  {
   "cell_type": "markdown",
   "id": "2f4d22ca-bc67-475f-88a6-6110598b830a",
   "metadata": {},
   "source": [
    "### modis_5"
   ]
  },
  {
   "cell_type": "code",
   "execution_count": 12,
   "id": "b16aa51e-dcfe-464c-acba-ba555cfa9911",
   "metadata": {},
   "outputs": [],
   "source": [
    "satelite_df = satelite_df.merge(\n",
    "    modis_5, on=['PID', 'date'], how='left'\n",
    ")"
   ]
  },
  {
   "cell_type": "code",
   "execution_count": 13,
   "id": "42e46e92-c938-4d6c-ab0e-d36101bc5e88",
   "metadata": {},
   "outputs": [],
   "source": [
    "satelite_test_df = satelite_test_df.merge(\n",
    "    modis_5, on=['PID', 'date'], how='left'\n",
    ")"
   ]
  },
  {
   "cell_type": "markdown",
   "id": "d28c3485-c266-40b6-8cb5-c8e14c29a14e",
   "metadata": {},
   "source": [
    "### landsat"
   ]
  },
  {
   "cell_type": "code",
   "execution_count": 14,
   "id": "7ec29dca-a653-4517-8b6e-5f47556dd067",
   "metadata": {},
   "outputs": [],
   "source": [
    "\n",
    "satelite_df_indexed = satelite_df.set_index(['PID', 'date'])\n",
    "landsat_indexed = landsat.set_index(['PID', 'date'])\n",
    "landsat_filtered = landsat_indexed.loc[\n",
    "    satelite_df_indexed.index.intersection(landsat_indexed.index)\n",
    "]\n",
    "satelite_df_combined = landsat_filtered.combine_first(satelite_df_indexed)\n",
    "\n",
    "\n",
    "satelite_df = satelite_df_combined.reset_index()\n"
   ]
  },
  {
   "cell_type": "code",
   "execution_count": 15,
   "id": "a6ef63d5-0922-4dfb-984a-7f6c0557c901",
   "metadata": {},
   "outputs": [],
   "source": [
    "\n",
    "satelite_test_df_indexed = satelite_test_df.set_index(['PID', 'date'])\n",
    "landsat_indexed = landsat.set_index(['PID', 'date'])\n",
    "\n",
    "\n",
    "landsat_filtered = landsat_indexed.loc[\n",
    "    satelite_test_df_indexed.index.intersection(landsat_indexed.index)\n",
    "]\n",
    "\n",
    "satelite_test_df_combined = landsat_filtered.combine_first(satelite_test_df_indexed)\n",
    "\n",
    "\n",
    "satelite_test_df = satelite_test_df_combined.reset_index()\n"
   ]
  },
  {
   "cell_type": "markdown",
   "id": "297bd60e-9350-4b18-b861-0c151805f6a9",
   "metadata": {},
   "source": [
    "### modis_4"
   ]
  },
  {
   "cell_type": "code",
   "execution_count": 16,
   "id": "84555901-c835-481d-9d9c-9d593e7368b4",
   "metadata": {},
   "outputs": [
    {
     "data": {
      "text/plain": [
       "Index(['PID', 'date', 'b01', 'b02', 'b03', 'b07', 'EVI', 'NDVI'], dtype='object')"
      ]
     },
     "execution_count": 16,
     "metadata": {},
     "output_type": "execute_result"
    }
   ],
   "source": [
    "modis_4.columns"
   ]
  },
  {
   "cell_type": "code",
   "execution_count": 17,
   "id": "4061d685-fd1e-46b3-8000-ab5dfcabbdd8",
   "metadata": {},
   "outputs": [],
   "source": [
    "# 1️⃣ Index both on PID + date\n",
    "satelite_df_indexed = satelite_df.set_index(['PID', 'date'])\n",
    "modis_4_indexed = modis_4.set_index(['PID', 'date'])\n",
    "\n",
    "# 2️⃣ Filter modis_4 rows that match satelite_df\n",
    "modis_4_filtered = modis_4_indexed.loc[\n",
    "    satelite_df_indexed.index.intersection(modis_4_indexed.index)\n",
    "]\n",
    "\n",
    "# 3️⃣ Combine: fill NaNs in satelite_df with modis_4 and add any new columns (EVI, NDVI)\n",
    "satelite_df_combined = modis_4_filtered.combine_first(satelite_df_indexed)\n",
    "\n",
    "# 4️⃣ Reset index back to columns\n",
    "satelite_df = satelite_df_combined.reset_index()\n"
   ]
  },
  {
   "cell_type": "code",
   "execution_count": 18,
   "id": "d6965cb2-7c0e-4fff-a283-ea602447891e",
   "metadata": {},
   "outputs": [],
   "source": [
    "# 1️⃣ Index both on PID + date\n",
    "satelite_test_df_indexed = satelite_test_df.set_index(['PID', 'date'])\n",
    "modis_4_indexed = modis_4.set_index(['PID', 'date'])\n",
    "\n",
    "# 2️⃣ Filter modis_4 rows that match satelite_test_df\n",
    "modis_4_filtered = modis_4_indexed.loc[\n",
    "    satelite_test_df_indexed.index.intersection(modis_4_indexed.index)\n",
    "]\n",
    "\n",
    "# 3️⃣ Combine: fill NaNs in satelite_test_df with modis_4 and add any new columns (EVI, NDVI)\n",
    "satelite_test_df_combined = modis_4_filtered.combine_first(satelite_test_df_indexed)\n",
    "\n",
    "# 4️⃣ Reset index back to columns\n",
    "satelite_test_df = satelite_test_df_combined.reset_index()\n"
   ]
  },
  {
   "cell_type": "code",
   "execution_count": 19,
   "id": "e6b75fc6-37ec-4ca5-9cc3-458a4c774711",
   "metadata": {},
   "outputs": [
    {
     "data": {
      "text/plain": [
       "PID             0\n",
       "date            0\n",
       "EVI       8063253\n",
       "NDVI      8063253\n",
       "ST_B10    8111163\n",
       "b01       2281284\n",
       "b02       2281284\n",
       "b03       2281284\n",
       "b04       2319142\n",
       "b05       8111163\n",
       "b06       8111163\n",
       "b07       7741346\n",
       "dtype: int64"
      ]
     },
     "execution_count": 19,
     "metadata": {},
     "output_type": "execute_result"
    }
   ],
   "source": [
    "satelite_df.isnull().sum()"
   ]
  },
  {
   "cell_type": "code",
   "execution_count": 20,
   "id": "985614cb-9904-4993-82c2-d8b75638e5a4",
   "metadata": {},
   "outputs": [
    {
     "data": {
      "text/plain": [
       "PID             0\n",
       "date            0\n",
       "EVI       2518574\n",
       "NDVI      2518574\n",
       "ST_B10    2561728\n",
       "b01        912916\n",
       "b02        912916\n",
       "b03        912916\n",
       "b04        937214\n",
       "b05       2561728\n",
       "b06       2561728\n",
       "b07       2438381\n",
       "dtype: int64"
      ]
     },
     "execution_count": 20,
     "metadata": {},
     "output_type": "execute_result"
    }
   ],
   "source": [
    "satelite_test_df.isnull().sum()"
   ]
  },
  {
   "cell_type": "markdown",
   "id": "2b4c4be7-1154-45e7-8585-79feb7546d93",
   "metadata": {},
   "source": [
    "### modis_1"
   ]
  },
  {
   "cell_type": "code",
   "execution_count": 21,
   "id": "21fa153a-86bf-426d-b606-62d5ca2b7c9f",
   "metadata": {},
   "outputs": [],
   "source": [
    "# 1️⃣ Index both on PID + date\n",
    "satelite_df_indexed = satelite_df.set_index(['PID', 'date'])\n",
    "modis_1_indexed = modis_1.set_index(['PID', 'date'])\n",
    "\n",
    "# 2️⃣ Filter modis_1 rows that match satelite_df\n",
    "modis_1_filtered = modis_1_indexed.loc[\n",
    "    satelite_df_indexed.index.intersection(modis_1_indexed.index)\n",
    "]\n",
    "\n",
    "# 3️⃣ Combine: fill NaNs in satelite_df with modis_1 and add any new columns (EVI, NDVI)\n",
    "satelite_df_combined = modis_1_filtered.combine_first(satelite_df_indexed)\n",
    "\n",
    "# 4️⃣ Reset index back to columns\n",
    "satelite_df = satelite_df_combined.reset_index()\n"
   ]
  },
  {
   "cell_type": "code",
   "execution_count": 22,
   "id": "a53cc6fa-aacd-4e1b-ad3f-4d1533ca0756",
   "metadata": {},
   "outputs": [],
   "source": [
    "# 1️⃣ Index both on PID + date\n",
    "satelite_test_df_indexed = satelite_test_df.set_index(['PID', 'date'])\n",
    "modis_1_indexed = modis_1.set_index(['PID', 'date'])\n",
    "\n",
    "# 2️⃣ Filter modis_1 rows that match satelite_test_df\n",
    "modis_1_filtered = modis_1_indexed.loc[\n",
    "    satelite_test_df_indexed.index.intersection(modis_1_indexed.index)\n",
    "]\n",
    "\n",
    "# 3️⃣ Combine: fill NaNs in satelite_test_df with modis_1 and add any new columns (EVI, NDVI)\n",
    "satelite_test_df_combined = modis_1_filtered.combine_first(satelite_test_df_indexed)\n",
    "\n",
    "# 4️⃣ Reset index back to columns\n",
    "satelite_test_df = satelite_test_df_combined.reset_index()\n"
   ]
  },
  {
   "cell_type": "code",
   "execution_count": 23,
   "id": "10e271de-25c0-4395-9629-e2408fb5d098",
   "metadata": {},
   "outputs": [
    {
     "data": {
      "text/plain": [
       "PID             0\n",
       "date            0\n",
       "EVI       8069295\n",
       "NDVI      8069295\n",
       "ST_B10    8117205\n",
       "b01       1804093\n",
       "b02       1804093\n",
       "b03       1804093\n",
       "b04       1817448\n",
       "b05       2395625\n",
       "b06       2395625\n",
       "b07       2307544\n",
       "dtype: int64"
      ]
     },
     "execution_count": 23,
     "metadata": {},
     "output_type": "execute_result"
    }
   ],
   "source": [
    "satelite_df.isnull().sum()"
   ]
  },
  {
   "cell_type": "markdown",
   "id": "aa3f7f25-1219-4795-bdf4-71a97937139d",
   "metadata": {},
   "source": [
    "### modis_2"
   ]
  },
  {
   "cell_type": "code",
   "execution_count": 24,
   "id": "5c42dcf6-4007-4f4d-8374-becb3428160d",
   "metadata": {},
   "outputs": [
    {
     "data": {
      "text/plain": [
       "Index(['PID', 'date', 'LST_Day_1km', 'LST_Night_1km'], dtype='object')"
      ]
     },
     "execution_count": 24,
     "metadata": {},
     "output_type": "execute_result"
    }
   ],
   "source": [
    "modis_2.columns"
   ]
  },
  {
   "cell_type": "code",
   "execution_count": 25,
   "id": "1b961f4a-43da-47dc-99d9-7d195673372a",
   "metadata": {},
   "outputs": [],
   "source": [
    "# 1️⃣ Index both on PID + date\n",
    "satelite_df_indexed = satelite_df.set_index(['PID', 'date'])\n",
    "modis_2_indexed = modis_2.set_index(['PID', 'date'])\n",
    "\n",
    "# 2️⃣ Filter modis_2 to only rows matching satelite_df index\n",
    "modis_2_filtered = modis_2_indexed.loc[\n",
    "    satelite_df_indexed.index.intersection(modis_2_indexed.index)\n",
    "]\n",
    "\n",
    "# 3️⃣ Combine: fill NaNs, add new columns\n",
    "satelite_df_indexed = modis_2_filtered.combine_first(satelite_df_indexed)\n",
    "\n",
    "# 4️⃣ Reset index to get PID/date back as columns\n",
    "satelite_df = satelite_df_indexed.reset_index()\n"
   ]
  },
  {
   "cell_type": "code",
   "execution_count": 26,
   "id": "a79b8d20-17a8-474d-8b91-771e052b5a35",
   "metadata": {},
   "outputs": [],
   "source": [
    "# 1️⃣ Index both on PID + date\n",
    "satelite_test_df_indexed = satelite_test_df.set_index(['PID', 'date'])\n",
    "modis_2_indexed = modis_2.set_index(['PID', 'date'])\n",
    "\n",
    "# 2️⃣ Filter modis_2 to only rows matching satelite_test_df index\n",
    "modis_2_filtered = modis_2_indexed.loc[\n",
    "    satelite_test_df_indexed.index.intersection(modis_2_indexed.index)\n",
    "]\n",
    "\n",
    "# 3️⃣ Combine: fill NaNs, add new columns\n",
    "satelite_test_df_indexed = modis_2_filtered.combine_first(satelite_test_df_indexed)\n",
    "\n",
    "# 4️⃣ Reset index to get PID/date back as columns\n",
    "satelite_test_df = satelite_test_df_indexed.reset_index()\n",
    "\n"
   ]
  },
  {
   "cell_type": "code",
   "execution_count": 27,
   "id": "a2146852-181b-404b-9cb9-ffb696b13628",
   "metadata": {},
   "outputs": [
    {
     "data": {
      "text/plain": [
       "PID                    0\n",
       "date                   0\n",
       "EVI              8069295\n",
       "LST_Day_1km      6497124\n",
       "LST_Night_1km    6497124\n",
       "NDVI             8069295\n",
       "ST_B10           8117205\n",
       "b01              1804093\n",
       "b02              1804093\n",
       "b03              1804093\n",
       "b04              1817448\n",
       "b05              2395625\n",
       "b06              2395625\n",
       "b07              2307544\n",
       "dtype: int64"
      ]
     },
     "execution_count": 27,
     "metadata": {},
     "output_type": "execute_result"
    }
   ],
   "source": [
    "satelite_df.isnull().sum()"
   ]
  },
  {
   "cell_type": "markdown",
   "id": "8f1d2b1a-7db2-4cf9-b561-01d9fc11b2ad",
   "metadata": {},
   "source": [
    "### modis_3"
   ]
  },
  {
   "cell_type": "code",
   "execution_count": 28,
   "id": "261e3920-fe00-4d83-9eec-19e7a94d45eb",
   "metadata": {},
   "outputs": [
    {
     "data": {
      "text/plain": [
       "Index(['PID', 'date', 'ET', 'PET'], dtype='object')"
      ]
     },
     "execution_count": 28,
     "metadata": {},
     "output_type": "execute_result"
    }
   ],
   "source": [
    "modis_3.columns"
   ]
  },
  {
   "cell_type": "code",
   "execution_count": 29,
   "id": "18baa59d-ad00-4f48-85d6-dc99f8beef54",
   "metadata": {},
   "outputs": [],
   "source": [
    "# 1️⃣ Index both on PID + date\n",
    "satelite_df_indexed = satelite_df.set_index(['PID', 'date'])\n",
    "modis_3_indexed = modis_3.set_index(['PID', 'date'])\n",
    "\n",
    "# 2️⃣ Filter modis_3 to only rows matching satelite_df index\n",
    "modis_3_filtered = modis_3_indexed.loc[\n",
    "    satelite_df_indexed.index.intersection(modis_3_indexed.index)\n",
    "]\n",
    "\n",
    "# 3️⃣ Combine: fill NaNs, add new columns\n",
    "satelite_df_indexed = modis_3_filtered.combine_first(satelite_df_indexed)\n",
    "\n",
    "# 4️⃣ Reset index to get PID/date back as columns\n",
    "satelite_df = satelite_df_indexed.reset_index()\n"
   ]
  },
  {
   "cell_type": "code",
   "execution_count": 30,
   "id": "5e00554c-c664-41bb-abff-558a82e81ae6",
   "metadata": {},
   "outputs": [],
   "source": [
    "# 1️⃣ Index both on PID + date\n",
    "satelite_test_df_indexed = satelite_test_df.set_index(['PID', 'date'])\n",
    "modis_3_indexed = modis_3.set_index(['PID', 'date'])\n",
    "\n",
    "# 2️⃣ Filter modis_3 to only rows matching satelite_test_df index\n",
    "modis_3_filtered = modis_3_indexed.loc[\n",
    "    satelite_test_df_indexed.index.intersection(modis_3_indexed.index)\n",
    "]\n",
    "\n",
    "# 3️⃣ Combine: fill NaNs, add new columns\n",
    "satelite_test_df_indexed = modis_3_filtered.combine_first(satelite_test_df_indexed)\n",
    "\n",
    "# 4️⃣ Reset index to get PID/date back as columns\n",
    "satelite_test_df = satelite_test_df_indexed.reset_index()\n",
    "\n"
   ]
  },
  {
   "cell_type": "markdown",
   "id": "33d7f97e-2cb7-4573-9582-8f84d86f71b2",
   "metadata": {},
   "source": [
    "### sentinel_1"
   ]
  },
  {
   "cell_type": "code",
   "execution_count": 31,
   "id": "6cc88fe4-19e0-49f5-9a50-c90aff2b7582",
   "metadata": {},
   "outputs": [],
   "source": [
    "# 1️⃣ Index both on PID + date\n",
    "satelite_df_indexed = satelite_df.set_index(['PID', 'date'])\n",
    "sentinel_1_indexed = sentinel_1.set_index(['PID', 'date'])\n",
    "\n",
    "# 2️⃣ Filter sentinel_1 to only rows matching satelite_df index\n",
    "sentinel_1_filtered = sentinel_1_indexed.loc[\n",
    "    satelite_df_indexed.index.intersection(sentinel_1_indexed.index)\n",
    "]\n",
    "\n",
    "# 3️⃣ Combine: fill NaNs, add new columns\n",
    "satelite_df_indexed = sentinel_1_filtered.combine_first(satelite_df_indexed)\n",
    "\n",
    "# 4️⃣ Reset index to get PID/date back as columns\n",
    "satelite_df = satelite_df_indexed.reset_index()\n"
   ]
  },
  {
   "cell_type": "code",
   "execution_count": 32,
   "id": "208a00e3-d9ad-43d9-94ee-854468b2a85f",
   "metadata": {},
   "outputs": [],
   "source": [
    "# 1️⃣ Index both on PID + date\n",
    "satelite_test_df_indexed = satelite_test_df.set_index(['PID', 'date'])\n",
    "sentinel_1_indexed = sentinel_1.set_index(['PID', 'date'])\n",
    "\n",
    "# 2️⃣ Filter sentinel_1 to only rows matching satelite_test_df index\n",
    "sentinel_1_filtered = sentinel_1_indexed.loc[\n",
    "    satelite_test_df_indexed.index.intersection(sentinel_1_indexed.index)\n",
    "]\n",
    "\n",
    "# 3️⃣ Combine: fill NaNs, add new columns\n",
    "satelite_test_df_indexed = sentinel_1_filtered.combine_first(satelite_test_df_indexed)\n",
    "\n",
    "# 4️⃣ Reset index to get PID/date back as columns\n",
    "satelite_test_df = satelite_test_df_indexed.reset_index()\n",
    "\n"
   ]
  },
  {
   "cell_type": "markdown",
   "id": "52ae82dc-4dd8-485d-914b-28f5a665854c",
   "metadata": {},
   "source": [
    "### sentinel_2"
   ]
  },
  {
   "cell_type": "code",
   "execution_count": 33,
   "id": "158c647e-e637-4a70-93d0-1b74c3afa780",
   "metadata": {},
   "outputs": [
    {
     "data": {
      "text/plain": [
       "Index(['PID', 'date', 'B11', 'B12', 'B2', 'B3', 'B4', 'B5', 'B6', 'B7', 'B8',\n",
       "       'B8A'],\n",
       "      dtype='object')"
      ]
     },
     "execution_count": 33,
     "metadata": {},
     "output_type": "execute_result"
    }
   ],
   "source": [
    "sentinel_2.columns"
   ]
  },
  {
   "cell_type": "code",
   "execution_count": 34,
   "id": "64e156ac-62ab-40a2-9cc7-42342c42da07",
   "metadata": {},
   "outputs": [],
   "source": [
    "# 1️⃣ Index both on PID + date\n",
    "satelite_df_indexed = satelite_df.set_index(['PID', 'date'])\n",
    "sentinel_2_indexed = sentinel_2.set_index(['PID', 'date'])\n",
    "\n",
    "# 2️⃣ Filter sentinel_2 rows that match satelite_df\n",
    "sentinel_2_filtered = sentinel_2_indexed.loc[\n",
    "    satelite_df_indexed.index.intersection(sentinel_2_indexed.index)\n",
    "]\n",
    "\n",
    "# 3️⃣ Combine: fill NaNs in satelite_df with sentinel_2 and add any new columns (EVI, NDVI)\n",
    "satelite_df_combined = sentinel_2_filtered.combine_first(satelite_df_indexed)\n",
    "\n",
    "# 4️⃣ Reset index back to columns\n",
    "satelite_df = satelite_df_combined.reset_index()\n"
   ]
  },
  {
   "cell_type": "code",
   "execution_count": 35,
   "id": "63a4ec08-95e6-49d9-b5f1-77d6014fc68b",
   "metadata": {},
   "outputs": [],
   "source": [
    "# 1️⃣ Index both on PID + date\n",
    "satelite_test_df_indexed = satelite_test_df.set_index(['PID', 'date'])\n",
    "sentinel_2_indexed = sentinel_2.set_index(['PID', 'date'])\n",
    "\n",
    "# 2️⃣ Filter sentinel_2 rows that match satelite_test_df\n",
    "sentinel_2_filtered = sentinel_2_indexed.loc[\n",
    "    satelite_test_df_indexed.index.intersection(sentinel_2_indexed.index)\n",
    "]\n",
    "\n",
    "# 3️⃣ Combine: fill NaNs in satelite_test_df with sentinel_2 and add any new columns (EVI, NDVI)\n",
    "satelite_test_df_combined = sentinel_2_filtered.combine_first(satelite_test_df_indexed)\n",
    "\n",
    "# 4️⃣ Reset index back to columns\n",
    "satelite_test_df = satelite_test_df_combined.reset_index()\n"
   ]
  },
  {
   "cell_type": "code",
   "execution_count": 37,
   "id": "e3a46adc-df11-4b9b-be6c-9a38f89436ca",
   "metadata": {},
   "outputs": [],
   "source": [
    "satelite_df.to_csv('satelite_df.csv', index=False)\n",
    "satelite_test_df.to_csv('satelite_test_df.csv', index=False)"
   ]
  }
 ],
 "metadata": {
  "kernelspec": {
   "display_name": "Python 3 (ipykernel)",
   "language": "python",
   "name": "python3"
  },
  "language_info": {
   "codemirror_mode": {
    "name": "ipython",
    "version": 3
   },
   "file_extension": ".py",
   "mimetype": "text/x-python",
   "name": "python",
   "nbconvert_exporter": "python",
   "pygments_lexer": "ipython3",
   "version": "3.13.3"
  }
 },
 "nbformat": 4,
 "nbformat_minor": 5
}
