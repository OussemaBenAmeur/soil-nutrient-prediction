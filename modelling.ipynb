{
 "cells": [
  {
   "cell_type": "code",
   "execution_count": 8,
   "id": "8fc21007-d325-4d86-bfaa-4d6acde41400",
   "metadata": {},
   "outputs": [],
   "source": [
    "import pandas as pd\n",
    "import numpy as np\n",
    "import matplotlib.pyplot as plt\n",
    "import seaborn as sns \n",
    "import warnings\n",
    "warnings.filterwarnings('ignore')"
   ]
  },
  {
   "cell_type": "code",
   "execution_count": 9,
   "id": "ebacf82a-a662-4684-86c9-6567e27d7ec8",
   "metadata": {},
   "outputs": [],
   "source": [
    "df = pd.read_csv('Train.csv')"
   ]
  },
  {
   "cell_type": "code",
   "execution_count": 10,
   "id": "a605415f-99f6-4110-8c1a-71b6ba441308",
   "metadata": {},
   "outputs": [
    {
     "data": {
      "text/plain": [
       "Index(['site', 'PID', 'lon', 'lat', 'pH', 'alb', 'bio1', 'bio12', 'bio15',\n",
       "       'bio7', 'bp', 'cec20', 'dows', 'ecec20', 'hp20', 'ls', 'lstd', 'lstn',\n",
       "       'mb1', 'mb2', 'mb3', 'mb7', 'mdem', 'para', 'parv', 'ph20', 'slope',\n",
       "       'snd20', 'soc20', 'tim', 'wp', 'xhp20', 'BulkDensity', 'N', 'P', 'K',\n",
       "       'Ca', 'Mg', 'S', 'Fe', 'Mn', 'Zn', 'Cu', 'B'],\n",
       "      dtype='object')"
      ]
     },
     "execution_count": 10,
     "metadata": {},
     "output_type": "execute_result"
    }
   ],
   "source": [
    "df.columns"
   ]
  },
  {
   "cell_type": "code",
   "execution_count": 3,
   "id": "ea86d918-b7d0-43eb-91ea-fa6e855c00fe",
   "metadata": {},
   "outputs": [
    {
     "data": {
      "text/plain": [
       "ecec20         5\n",
       "hp20           5\n",
       "xhp20          5\n",
       "BulkDensity    4\n",
       "dtype: int64"
      ]
     },
     "execution_count": 3,
     "metadata": {},
     "output_type": "execute_result"
    }
   ],
   "source": [
    "df.isnull().sum()[df.isnull().sum()!=0]"
   ]
  },
  {
   "cell_type": "code",
   "execution_count": 4,
   "id": "6e326429-cc76-42f5-b72b-a29bf79e3ddb",
   "metadata": {},
   "outputs": [],
   "source": [
    "for column in df.columns:\n",
    "  if df[column].isnull().any():\n",
    "    df[column].fillna(df[column].mean(), inplace=True)\n",
    "    "
   ]
  },
  {
   "cell_type": "code",
   "execution_count": 5,
   "id": "6a7f1cc1-055a-4b8f-98b6-b94174157ff5",
   "metadata": {},
   "outputs": [],
   "source": [
    "test_df = pd.read_csv('Test.csv')\n",
    "train_gap_df = pd.read_csv('Gap_Train.csv')\n",
    "test_gap_df = pd.read_csv('Gap_Test.csv')\n",
    "sample_submission = pd.read_csv('SampleSubmission.csv')"
   ]
  },
  {
   "cell_type": "code",
   "execution_count": 6,
   "id": "1ea17e3b-3f63-4b5a-b54d-9c4d7d89a56e",
   "metadata": {},
   "outputs": [],
   "source": [
    "test_gap_df = pd.merge(test_gap_df, test_df[['PID', 'BulkDensity']], on='PID', how='left')"
   ]
  },
  {
   "cell_type": "code",
   "execution_count": 7,
   "id": "fb58c6eb-cb40-4c07-9aa6-70c6aa29d3d4",
   "metadata": {},
   "outputs": [],
   "source": [
    "df.drop(columns=['site','lon','lat'],inplace=True)\n",
    "test_df.drop(columns=['site','lon','lat'],inplace=True)"
   ]
  },
  {
   "cell_type": "code",
   "execution_count": 98,
   "id": "82926d58-b1cd-43d7-8b9c-2bed6fd3cb27",
   "metadata": {},
   "outputs": [],
   "source": [
    "bands=pd.read_csv('bands.csv')\n",
    "bands_test=pd.read_csv('bands_test.csv')"
   ]
  },
  {
   "cell_type": "code",
   "execution_count": 99,
   "id": "06641926-158a-4d92-bf99-fa1684d14b66",
   "metadata": {},
   "outputs": [],
   "source": [
    "df = pd.merge(df, bands, on='PID')\n",
    "test_df=pd.merge(test_df,bands_test,on='PID')"
   ]
  },
  {
   "cell_type": "code",
   "execution_count": 105,
   "id": "2c15b125-cfdf-4353-a92b-a47297ba18ac",
   "metadata": {},
   "outputs": [],
   "source": [
    "from sklearn.model_selection import train_test_split\n",
    "from sklearn.preprocessing import StandardScaler\n",
    "from sklearn.multioutput import MultiOutputRegressor\n",
    "from sklearn.ensemble import RandomForestRegressor\n",
    "from sklearn.metrics import mean_absolute_error, mean_squared_error\n",
    "import warnings\n",
    "warnings.filterwarnings('ignore')"
   ]
  },
  {
   "cell_type": "code",
   "execution_count": 106,
   "id": "843a3de2-2115-4d43-98e4-6d60e235cf21",
   "metadata": {},
   "outputs": [],
   "source": [
    "target_columns = ['N', 'P', 'K', 'Ca', 'Mg', 'S', 'Fe', 'Mn', 'Zn', 'Cu', 'B']"
   ]
  },
  {
   "cell_type": "code",
   "execution_count": 107,
   "id": "14ca1efd-3bda-49f5-8a3e-725150a12bc4",
   "metadata": {},
   "outputs": [],
   "source": [
    "# Feature selection\n",
    "X = df.drop(columns=target_columns)\n",
    "y = df[target_columns]\n",
    "X_test = test_df.drop(columns=['PID'])"
   ]
  },
  {
   "cell_type": "code",
   "execution_count": 108,
   "id": "cf794650-2b39-4a73-a41c-517a3f61479c",
   "metadata": {},
   "outputs": [],
   "source": [
    "X_train, X_val, y_train, y_val = train_test_split(X, y, test_size=0.2, random_state=42)"
   ]
  },
  {
   "cell_type": "code",
   "execution_count": 109,
   "id": "bc8af8b1-fb83-44bf-aa86-7368ec726bbb",
   "metadata": {},
   "outputs": [],
   "source": [
    "X_train = X_train.drop(columns=['PID'])\n",
    "X_val = X_val.drop(columns=['PID'])"
   ]
  },
  {
   "cell_type": "code",
   "execution_count": 111,
   "id": "3f57d726-778f-4096-b9ee-1e0d1e177293",
   "metadata": {},
   "outputs": [
    {
     "data": {
      "text/plain": [
       "Index(['pH', 'alb', 'bio1', 'bio12', 'bio15', 'bio7', 'bp', 'cec20', 'dows',\n",
       "       'ecec20',\n",
       "       ...\n",
       "       'b07_2018-05', 'b07_2018-07', 'b07_2018-09', 'b07_2018-11',\n",
       "       'b07_2019-01', 'b07_2019-03', 'b07_2019-05', 'b07_2019-07',\n",
       "       'b07_2019-09', 'b07_2019-11'],\n",
       "      dtype='object', length=155)"
      ]
     },
     "execution_count": 111,
     "metadata": {},
     "output_type": "execute_result"
    }
   ],
   "source": []
  },
  {
   "cell_type": "code",
   "execution_count": 141,
   "id": "cea9c3bf-55f0-4116-846a-1073a714e774",
   "metadata": {},
   "outputs": [
    {
     "ename": "ModuleNotFoundError",
     "evalue": "No module named 'cuml'",
     "output_type": "error",
     "traceback": [
      "\u001b[31m---------------------------------------------------------------------------\u001b[39m",
      "\u001b[31mModuleNotFoundError\u001b[39m                       Traceback (most recent call last)",
      "\u001b[36mCell\u001b[39m\u001b[36m \u001b[39m\u001b[32mIn[141]\u001b[39m\u001b[32m, line 1\u001b[39m\n\u001b[32m----> \u001b[39m\u001b[32m1\u001b[39m \u001b[38;5;28;01mfrom\u001b[39;00m\u001b[38;5;250m \u001b[39m\u001b[34;01mcuml\u001b[39;00m\u001b[34;01m.\u001b[39;00m\u001b[34;01mensemble\u001b[39;00m\u001b[38;5;250m \u001b[39m\u001b[38;5;28;01mimport\u001b[39;00m RandomForestRegressor \u001b[38;5;28;01mas\u001b[39;00m cuRF\n\u001b[32m      2\u001b[39m \u001b[38;5;28;01mfrom\u001b[39;00m\u001b[38;5;250m \u001b[39m\u001b[34;01msklearn\u001b[39;00m\u001b[34;01m.\u001b[39;00m\u001b[34;01mmultioutput\u001b[39;00m\u001b[38;5;250m \u001b[39m\u001b[38;5;28;01mimport\u001b[39;00m MultiOutputRegressor\n\u001b[32m      4\u001b[39m model = MultiOutputRegressor(\n\u001b[32m      5\u001b[39m     cuRF(\n\u001b[32m      6\u001b[39m         n_estimators=\u001b[32m150\u001b[39m,\n\u001b[32m      7\u001b[39m         random_state=\u001b[32m42\u001b[39m\n\u001b[32m      8\u001b[39m     )\n\u001b[32m      9\u001b[39m )\n",
      "\u001b[31mModuleNotFoundError\u001b[39m: No module named 'cuml'"
     ]
    }
   ],
   "source": [
    "from cuml.ensemble import RandomForestRegressor as cuRF\n",
    "from sklearn.multioutput import MultiOutputRegressor\n",
    "\n",
    "model = MultiOutputRegressor(\n",
    "    cuRF(\n",
    "        n_estimators=150,\n",
    "        random_state=42\n",
    "    )\n",
    ")\n",
    "model.fit(X_train, y_train)\n"
   ]
  },
  {
   "cell_type": "code",
   "execution_count": 113,
   "id": "99b12b47-de08-49b7-aa00-97079ff0b481",
   "metadata": {},
   "outputs": [],
   "source": [
    "y_pred = model.predict(X_val)"
   ]
  },
  {
   "cell_type": "code",
   "execution_count": 114,
   "id": "e6b48659-4807-4dfa-86ad-a49c03339718",
   "metadata": {},
   "outputs": [
    {
     "name": "stdout",
     "output_type": "stream",
     "text": [
      "N: RMSE = 500.9464, R² = 0.5565\n",
      "P: RMSE = 44.3605, R² = 0.0026\n",
      "K: RMSE = 206.1790, R² = 0.3963\n",
      "Ca: RMSE = 1519.8603, R² = 0.8139\n",
      "Mg: RMSE = 345.3575, R² = 0.6256\n",
      "S: RMSE = 57.2457, R² = -12.1393\n",
      "Fe: RMSE = 44.7641, R² = 0.5368\n",
      "Mn: RMSE = 56.0986, R² = 0.3660\n",
      "Zn: RMSE = 3.2225, R² = -1.4221\n",
      "Cu: RMSE = 5.0317, R² = 0.0465\n",
      "B: RMSE = 0.2301, R² = 0.5479\n"
     ]
    }
   ],
   "source": [
    "from sklearn.metrics import mean_squared_error, r2_score\n",
    "mse_per_target = mean_squared_error(y_val, y_pred, multioutput='raw_values')\n",
    "r2_per_target = r2_score(y_val, y_pred, multioutput='raw_values')\n",
    "\n",
    "for i, (nutrient, mse, r2) in enumerate(zip(target_columns, mse_per_target, r2_per_target)):\n",
    "    rmse = np.sqrt(mse)\n",
    "    print(f\"{nutrient}: RMSE = {rmse:.4f}, R² = {r2:.4f}\")\n"
   ]
  },
  {
   "cell_type": "code",
   "execution_count": 115,
   "id": "1287e3ed-7543-427e-9bbe-b5cd8e6e67bb",
   "metadata": {},
   "outputs": [
    {
     "name": "stdout",
     "output_type": "stream",
     "text": [
      " RMSE: 498.4645\n"
     ]
    }
   ],
   "source": [
    "mse = mean_squared_error(y_val, y_pred)\n",
    "rmse = np.sqrt(mse)\n",
    "print(f' RMSE: {rmse:.4f}')"
   ]
  },
  {
   "cell_type": "code",
   "execution_count": 132,
   "id": "d203f742-f65c-43ec-8874-6cd37136bee8",
   "metadata": {},
   "outputs": [],
   "source": [
    "test_predictions = model.predict(X_test)"
   ]
  },
  {
   "cell_type": "code",
   "execution_count": 133,
   "id": "29377cd3-5b8d-4f5a-aeb6-f3e674cfa76c",
   "metadata": {},
   "outputs": [],
   "source": [
    "# Split the predictions into separate columns\n",
    "N_pred =  test_predictions[:, 0]  # Predictions for N\n",
    "P_pred =  test_predictions[:, 1]  # Predictions for P\n",
    "K_pred =  test_predictions[:, 2]  # Predictions for K\n",
    "Ca_pred = test_predictions[:, 3]  # Predictions for Ca\n",
    "Mg_pred = test_predictions[:, 4]  # Predictions for Mg\n",
    "S_pred =  test_predictions[:, 5]  # Predictions for S\n",
    "Fe_pred = test_predictions[:, 6]  # Predictions for Fe\n",
    "Mn_pred = test_predictions[:, 7]  # Predictions for Mn\n",
    "Zn_pred = test_predictions[:, 8]  # Predictions for Zn\n",
    "Cu_pred = test_predictions[:, 9]  # Predictions for Cu\n",
    "B_pred =  test_predictions[:, 10]  # Predictions for B\n"
   ]
  },
  {
   "cell_type": "code",
   "execution_count": 134,
   "id": "f27ae0cf-2ff0-4e47-b4f2-a7a0da430656",
   "metadata": {},
   "outputs": [
    {
     "data": {
      "text/html": [
       "<div>\n",
       "<style scoped>\n",
       "    .dataframe tbody tr th:only-of-type {\n",
       "        vertical-align: middle;\n",
       "    }\n",
       "\n",
       "    .dataframe tbody tr th {\n",
       "        vertical-align: top;\n",
       "    }\n",
       "\n",
       "    .dataframe thead th {\n",
       "        text-align: right;\n",
       "    }\n",
       "</style>\n",
       "<table border=\"1\" class=\"dataframe\">\n",
       "  <thead>\n",
       "    <tr style=\"text-align: right;\">\n",
       "      <th></th>\n",
       "      <th>PID</th>\n",
       "      <th>N</th>\n",
       "      <th>P</th>\n",
       "      <th>K</th>\n",
       "      <th>Ca</th>\n",
       "      <th>Mg</th>\n",
       "      <th>S</th>\n",
       "      <th>Fe</th>\n",
       "      <th>Mn</th>\n",
       "      <th>Zn</th>\n",
       "      <th>Cu</th>\n",
       "      <th>B</th>\n",
       "    </tr>\n",
       "  </thead>\n",
       "  <tbody>\n",
       "    <tr>\n",
       "      <th>0</th>\n",
       "      <td>ID_NGS9Bx</td>\n",
       "      <td>1275.8</td>\n",
       "      <td>12.1814</td>\n",
       "      <td>175.60</td>\n",
       "      <td>5156.10</td>\n",
       "      <td>1393.52</td>\n",
       "      <td>9.8262</td>\n",
       "      <td>123.198</td>\n",
       "      <td>180.96</td>\n",
       "      <td>1.7524</td>\n",
       "      <td>4.7226</td>\n",
       "      <td>0.2584</td>\n",
       "    </tr>\n",
       "    <tr>\n",
       "      <th>1</th>\n",
       "      <td>ID_YdVKXw</td>\n",
       "      <td>1403.0</td>\n",
       "      <td>3.6412</td>\n",
       "      <td>174.12</td>\n",
       "      <td>6350.96</td>\n",
       "      <td>2010.70</td>\n",
       "      <td>9.3380</td>\n",
       "      <td>131.394</td>\n",
       "      <td>142.08</td>\n",
       "      <td>1.4722</td>\n",
       "      <td>4.1206</td>\n",
       "      <td>0.1798</td>\n",
       "    </tr>\n",
       "    <tr>\n",
       "      <th>2</th>\n",
       "      <td>ID_MZAlfE</td>\n",
       "      <td>1757.2</td>\n",
       "      <td>1.1348</td>\n",
       "      <td>186.00</td>\n",
       "      <td>5513.80</td>\n",
       "      <td>1893.22</td>\n",
       "      <td>9.6842</td>\n",
       "      <td>132.362</td>\n",
       "      <td>132.34</td>\n",
       "      <td>1.3990</td>\n",
       "      <td>3.8888</td>\n",
       "      <td>0.1814</td>\n",
       "    </tr>\n",
       "    <tr>\n",
       "      <th>3</th>\n",
       "      <td>ID_GwCCMN</td>\n",
       "      <td>1724.4</td>\n",
       "      <td>3.6186</td>\n",
       "      <td>172.00</td>\n",
       "      <td>5595.56</td>\n",
       "      <td>1559.90</td>\n",
       "      <td>8.9602</td>\n",
       "      <td>129.884</td>\n",
       "      <td>146.50</td>\n",
       "      <td>1.4738</td>\n",
       "      <td>3.9196</td>\n",
       "      <td>0.1844</td>\n",
       "    </tr>\n",
       "    <tr>\n",
       "      <th>4</th>\n",
       "      <td>ID_K8sowf</td>\n",
       "      <td>1685.8</td>\n",
       "      <td>4.8050</td>\n",
       "      <td>185.52</td>\n",
       "      <td>5645.46</td>\n",
       "      <td>1289.80</td>\n",
       "      <td>8.2768</td>\n",
       "      <td>121.600</td>\n",
       "      <td>140.14</td>\n",
       "      <td>1.6718</td>\n",
       "      <td>3.7414</td>\n",
       "      <td>0.1640</td>\n",
       "    </tr>\n",
       "  </tbody>\n",
       "</table>\n",
       "</div>"
      ],
      "text/plain": [
       "         PID       N        P       K       Ca       Mg       S       Fe  \\\n",
       "0  ID_NGS9Bx  1275.8  12.1814  175.60  5156.10  1393.52  9.8262  123.198   \n",
       "1  ID_YdVKXw  1403.0   3.6412  174.12  6350.96  2010.70  9.3380  131.394   \n",
       "2  ID_MZAlfE  1757.2   1.1348  186.00  5513.80  1893.22  9.6842  132.362   \n",
       "3  ID_GwCCMN  1724.4   3.6186  172.00  5595.56  1559.90  8.9602  129.884   \n",
       "4  ID_K8sowf  1685.8   4.8050  185.52  5645.46  1289.80  8.2768  121.600   \n",
       "\n",
       "       Mn      Zn      Cu       B  \n",
       "0  180.96  1.7524  4.7226  0.2584  \n",
       "1  142.08  1.4722  4.1206  0.1798  \n",
       "2  132.34  1.3990  3.8888  0.1814  \n",
       "3  146.50  1.4738  3.9196  0.1844  \n",
       "4  140.14  1.6718  3.7414  0.1640  "
      ]
     },
     "execution_count": 134,
     "metadata": {},
     "output_type": "execute_result"
    }
   ],
   "source": [
    "submission = pd.DataFrame({'PID': test_df['PID'], 'N': N_pred, 'P': P_pred, 'K': K_pred, 'Ca': Ca_pred, 'Mg': Mg_pred, 'S': S_pred, 'Fe': Fe_pred, 'Mn': Mn_pred, 'Zn': Zn_pred, 'Cu': Cu_pred, 'B': B_pred})\n",
    "submission.head()"
   ]
  },
  {
   "cell_type": "code",
   "execution_count": 135,
   "id": "a3c58f65-27ec-4cbb-8fb7-9edb8abcbd45",
   "metadata": {},
   "outputs": [
    {
     "data": {
      "text/html": [
       "<div>\n",
       "<style scoped>\n",
       "    .dataframe tbody tr th:only-of-type {\n",
       "        vertical-align: middle;\n",
       "    }\n",
       "\n",
       "    .dataframe tbody tr th {\n",
       "        vertical-align: top;\n",
       "    }\n",
       "\n",
       "    .dataframe thead th {\n",
       "        text-align: right;\n",
       "    }\n",
       "</style>\n",
       "<table border=\"1\" class=\"dataframe\">\n",
       "  <thead>\n",
       "    <tr style=\"text-align: right;\">\n",
       "      <th></th>\n",
       "      <th>PID</th>\n",
       "      <th>Nutrient</th>\n",
       "      <th>Available_Nutrients_in_ppm</th>\n",
       "    </tr>\n",
       "  </thead>\n",
       "  <tbody>\n",
       "    <tr>\n",
       "      <th>19869</th>\n",
       "      <td>ID_002W8m</td>\n",
       "      <td>Zn</td>\n",
       "      <td>2.5614</td>\n",
       "    </tr>\n",
       "    <tr>\n",
       "      <th>15033</th>\n",
       "      <td>ID_002W8m</td>\n",
       "      <td>Fe</td>\n",
       "      <td>226.3300</td>\n",
       "    </tr>\n",
       "    <tr>\n",
       "      <th>2943</th>\n",
       "      <td>ID_002W8m</td>\n",
       "      <td>P</td>\n",
       "      <td>5.0760</td>\n",
       "    </tr>\n",
       "    <tr>\n",
       "      <th>24705</th>\n",
       "      <td>ID_002W8m</td>\n",
       "      <td>B</td>\n",
       "      <td>0.3092</td>\n",
       "    </tr>\n",
       "    <tr>\n",
       "      <th>525</th>\n",
       "      <td>ID_002W8m</td>\n",
       "      <td>N</td>\n",
       "      <td>1988.6000</td>\n",
       "    </tr>\n",
       "  </tbody>\n",
       "</table>\n",
       "</div>"
      ],
      "text/plain": [
       "             PID Nutrient  Available_Nutrients_in_ppm\n",
       "19869  ID_002W8m       Zn                      2.5614\n",
       "15033  ID_002W8m       Fe                    226.3300\n",
       "2943   ID_002W8m        P                      5.0760\n",
       "24705  ID_002W8m        B                      0.3092\n",
       "525    ID_002W8m        N                   1988.6000"
      ]
     },
     "execution_count": 135,
     "metadata": {},
     "output_type": "execute_result"
    }
   ],
   "source": [
    "# prompt: turn submission into a 3 column file that has the column PID, Nutrient, Value\n",
    "\n",
    "submission_melted = submission.melt(id_vars=['PID'], var_name='Nutrient', value_name='Available_Nutrients_in_ppm')\n",
    "submission_melted = submission_melted.sort_values('PID')\n",
    "submission_melted.head()"
   ]
  },
  {
   "cell_type": "code",
   "execution_count": 136,
   "id": "932aa2ed-e992-46a3-9cd2-779bd812719e",
   "metadata": {},
   "outputs": [],
   "source": [
    "# prompt: merge test_gap_df with submission_melted on PID and Nutrient\n",
    "nutrient_df = pd.merge(test_gap_df, submission_melted, on=['PID', 'Nutrient'], how='left')\n"
   ]
  },
  {
   "cell_type": "code",
   "execution_count": 137,
   "id": "2650cbf9-9fd5-42c5-a008-11bec3844e45",
   "metadata": {},
   "outputs": [],
   "source": [
    "soil_depth = 20  # cm\n",
    "\n",
    "# Calculate the Available_Nutrients_in_kg_ha\n",
    "nutrient_df['Available_Nutrients_in_kg_ha'] = (nutrient_df['Available_Nutrients_in_ppm']\n",
    "                                               * soil_depth * nutrient_df['BulkDensity'] * 0.1)"
   ]
  },
  {
   "cell_type": "code",
   "execution_count": 138,
   "id": "a321e572-8468-4600-9a85-7f94c47c8220",
   "metadata": {},
   "outputs": [],
   "source": [
    "nutrient_df[\"Gap\"] = nutrient_df[\"Required\"] - nutrient_df[\"Available_Nutrients_in_kg_ha\"]"
   ]
  },
  {
   "cell_type": "code",
   "execution_count": 139,
   "id": "977ad90c-aa2c-4b32-8620-e601b67567e9",
   "metadata": {},
   "outputs": [
    {
     "data": {
      "text/html": [
       "<div>\n",
       "<style scoped>\n",
       "    .dataframe tbody tr th:only-of-type {\n",
       "        vertical-align: middle;\n",
       "    }\n",
       "\n",
       "    .dataframe tbody tr th {\n",
       "        vertical-align: top;\n",
       "    }\n",
       "\n",
       "    .dataframe thead th {\n",
       "        text-align: right;\n",
       "    }\n",
       "</style>\n",
       "<table border=\"1\" class=\"dataframe\">\n",
       "  <thead>\n",
       "    <tr style=\"text-align: right;\">\n",
       "      <th></th>\n",
       "      <th>ID</th>\n",
       "      <th>Gap</th>\n",
       "    </tr>\n",
       "  </thead>\n",
       "  <tbody>\n",
       "    <tr>\n",
       "      <th>0</th>\n",
       "      <td>ID_NGS9Bx_N</td>\n",
       "      <td>-2961.92000</td>\n",
       "    </tr>\n",
       "    <tr>\n",
       "      <th>1</th>\n",
       "      <td>ID_NGS9Bx_P</td>\n",
       "      <td>10.76464</td>\n",
       "    </tr>\n",
       "    <tr>\n",
       "      <th>2</th>\n",
       "      <td>ID_NGS9Bx_K</td>\n",
       "      <td>-369.44000</td>\n",
       "    </tr>\n",
       "    <tr>\n",
       "      <th>3</th>\n",
       "      <td>ID_NGS9Bx_Ca</td>\n",
       "      <td>-12362.64000</td>\n",
       "    </tr>\n",
       "    <tr>\n",
       "      <th>4</th>\n",
       "      <td>ID_NGS9Bx_Mg</td>\n",
       "      <td>-3336.44800</td>\n",
       "    </tr>\n",
       "  </tbody>\n",
       "</table>\n",
       "</div>"
      ],
      "text/plain": [
       "             ID          Gap\n",
       "0   ID_NGS9Bx_N  -2961.92000\n",
       "1   ID_NGS9Bx_P     10.76464\n",
       "2   ID_NGS9Bx_K   -369.44000\n",
       "3  ID_NGS9Bx_Ca -12362.64000\n",
       "4  ID_NGS9Bx_Mg  -3336.44800"
      ]
     },
     "execution_count": 139,
     "metadata": {},
     "output_type": "execute_result"
    }
   ],
   "source": [
    "nutrient_df['ID'] = nutrient_df['PID'] + \"_\" + nutrient_df['Nutrient']\n",
    "nutrient_df = nutrient_df[['ID', 'Gap']]\n",
    "nutrient_df.head()"
   ]
  },
  {
   "cell_type": "code",
   "execution_count": 140,
   "id": "293b930d-9017-4461-8334-4d2e6a915225",
   "metadata": {},
   "outputs": [
    {
     "name": "stdout",
     "output_type": "stream",
     "text": [
      "Submission file saved as submission.csv\n"
     ]
    }
   ],
   "source": [
    "nutrient_df.to_csv('submission.csv', index=False)\n",
    "print(\"Submission file saved as submission.csv\")"
   ]
  },
  {
   "cell_type": "code",
   "execution_count": null,
   "id": "d2f1ca27-4620-4cb4-823e-169dcdbfcbb6",
   "metadata": {},
   "outputs": [],
   "source": []
  }
 ],
 "metadata": {
  "kernelspec": {
   "display_name": "Python 3 (ipykernel)",
   "language": "python",
   "name": "python3"
  },
  "language_info": {
   "codemirror_mode": {
    "name": "ipython",
    "version": 3
   },
   "file_extension": ".py",
   "mimetype": "text/x-python",
   "name": "python",
   "nbconvert_exporter": "python",
   "pygments_lexer": "ipython3",
   "version": "3.13.3"
  }
 },
 "nbformat": 4,
 "nbformat_minor": 5
}
