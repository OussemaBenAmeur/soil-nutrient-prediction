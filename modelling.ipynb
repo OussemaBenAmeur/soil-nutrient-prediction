{
 "cells": [
  {
   "cell_type": "code",
   "execution_count": 8,
   "id": "8fc21007-d325-4d86-bfaa-4d6acde41400",
   "metadata": {},
   "outputs": [],
   "source": [
    "import pandas as pd\n",
    "import numpy as np\n",
    "import matplotlib.pyplot as plt\n",
    "import seaborn as sns \n",
    "import warnings\n",
    "warnings.filterwarnings('ignore')"
   ]
  },
  {
   "cell_type": "code",
   "execution_count": 9,
   "id": "ebacf82a-a662-4684-86c9-6567e27d7ec8",
   "metadata": {},
   "outputs": [],
   "source": [
    "df = pd.read_csv('Train.csv')"
   ]
  },
  {
   "cell_type": "code",
   "execution_count": 10,
   "id": "a605415f-99f6-4110-8c1a-71b6ba441308",
   "metadata": {},
   "outputs": [
    {
     "data": {
      "text/plain": [
       "Index(['site', 'PID', 'lon', 'lat', 'pH', 'alb', 'bio1', 'bio12', 'bio15',\n",
       "       'bio7', 'bp', 'cec20', 'dows', 'ecec20', 'hp20', 'ls', 'lstd', 'lstn',\n",
       "       'mb1', 'mb2', 'mb3', 'mb7', 'mdem', 'para', 'parv', 'ph20', 'slope',\n",
       "       'snd20', 'soc20', 'tim', 'wp', 'xhp20', 'BulkDensity', 'N', 'P', 'K',\n",
       "       'Ca', 'Mg', 'S', 'Fe', 'Mn', 'Zn', 'Cu', 'B'],\n",
       "      dtype='object')"
      ]
     },
     "execution_count": 10,
     "metadata": {},
     "output_type": "execute_result"
    }
   ],
   "source": [
    "df.columns"
   ]
  },
  {
   "cell_type": "code",
   "execution_count": 11,
   "id": "ea86d918-b7d0-43eb-91ea-fa6e855c00fe",
   "metadata": {},
   "outputs": [
    {
     "data": {
      "text/plain": [
       "ecec20         5\n",
       "hp20           5\n",
       "xhp20          5\n",
       "BulkDensity    4\n",
       "dtype: int64"
      ]
     },
     "execution_count": 11,
     "metadata": {},
     "output_type": "execute_result"
    }
   ],
   "source": [
    "df.isnull().sum()[df.isnull().sum()!=0]"
   ]
  },
  {
   "cell_type": "code",
   "execution_count": 12,
   "id": "6e326429-cc76-42f5-b72b-a29bf79e3ddb",
   "metadata": {},
   "outputs": [],
   "source": [
    "for column in df.columns:\n",
    "  if df[column].isnull().any():\n",
    "    df[column].fillna(df[column].mean(), inplace=True)"
   ]
  },
  {
   "cell_type": "code",
   "execution_count": 13,
   "id": "6a7f1cc1-055a-4b8f-98b6-b94174157ff5",
   "metadata": {},
   "outputs": [],
   "source": [
    "test_df = pd.read_csv('Test.csv')\n",
    "train_gap_df = pd.read_csv('Gap_Train.csv')\n",
    "test_gap_df = pd.read_csv('Gap_Test.csv')\n",
    "sample_submission = pd.read_csv('SampleSubmission.csv')"
   ]
  },
  {
   "cell_type": "code",
   "execution_count": 14,
   "id": "1ea17e3b-3f63-4b5a-b54d-9c4d7d89a56e",
   "metadata": {},
   "outputs": [],
   "source": [
    "test_gap_df = pd.merge(test_gap_df, test_df[['PID', 'BulkDensity']], on='PID', how='left')"
   ]
  },
  {
   "cell_type": "code",
   "execution_count": 16,
   "id": "fb58c6eb-cb40-4c07-9aa6-70c6aa29d3d4",
   "metadata": {},
   "outputs": [],
   "source": [
    "df.drop(columns=['site','lon','lat'],inplace=True)\n",
    "test_df.drop(columns=['site','lon','lat'],inplace=True)"
   ]
  },
  {
   "cell_type": "code",
   "execution_count": 18,
   "id": "82926d58-b1cd-43d7-8b9c-2bed6fd3cb27",
   "metadata": {},
   "outputs": [],
   "source": [
    "bands=pd.read_csv('bands.csv')\n",
    "bands_test=pd.read_csv('bands_test.csv')"
   ]
  },
  {
   "cell_type": "code",
   "execution_count": 19,
   "id": "06641926-158a-4d92-bf99-fa1684d14b66",
   "metadata": {},
   "outputs": [],
   "source": [
    "df = pd.merge(df, bands, on='PID')\n",
    "test_df=pd.merge(test_df,bands_test,on='PID')"
   ]
  },
  {
   "cell_type": "code",
   "execution_count": 21,
   "id": "2c15b125-cfdf-4353-a92b-a47297ba18ac",
   "metadata": {},
   "outputs": [],
   "source": [
    "from sklearn.model_selection import train_test_split\n",
    "from sklearn.preprocessing import StandardScaler\n",
    "from sklearn.multioutput import MultiOutputRegressor\n",
    "from sklearn.ensemble import RandomForestRegressor\n",
    "from sklearn.metrics import mean_absolute_error, mean_squared_error\n",
    "import warnings\n",
    "warnings.filterwarnings('ignore')"
   ]
  },
  {
   "cell_type": "code",
   "execution_count": 22,
   "id": "843a3de2-2115-4d43-98e4-6d60e235cf21",
   "metadata": {},
   "outputs": [],
   "source": [
    "target_columns = ['N', 'P', 'K', 'Ca', 'Mg', 'S', 'Fe', 'Mn', 'Zn', 'Cu', 'B']"
   ]
  },
  {
   "cell_type": "code",
   "execution_count": 23,
   "id": "14ca1efd-3bda-49f5-8a3e-725150a12bc4",
   "metadata": {},
   "outputs": [],
   "source": [
    "# Feature selection\n",
    "X = df.drop(columns=target_columns)\n",
    "y = df[target_columns]\n",
    "X_test = test_df.drop(columns=['PID'])"
   ]
  },
  {
   "cell_type": "code",
   "execution_count": 24,
   "id": "cf794650-2b39-4a73-a41c-517a3f61479c",
   "metadata": {},
   "outputs": [],
   "source": [
    "X_train, X_val, y_train, y_val = train_test_split(X, y, test_size=0.2, random_state=42)"
   ]
  },
  {
   "cell_type": "code",
   "execution_count": 25,
   "id": "bc8af8b1-fb83-44bf-aa86-7368ec726bbb",
   "metadata": {},
   "outputs": [],
   "source": [
    "X_train = X_train.drop(columns=['PID'])\n",
    "X_val = X_val.drop(columns=['PID'])"
   ]
  },
  {
   "cell_type": "code",
   "execution_count": null,
   "id": "cea9c3bf-55f0-4116-846a-1073a714e774",
   "metadata": {},
   "outputs": [],
   "source": [
    "from lightgbm import LGBMRegressor\n",
    "from sklearn.multioutput import MultiOutputRegressor\n",
    "\n",
    "model = MultiOutputRegressor(LGBMRegressor(n_estimators=100, random_state=42, n_jobs=-1))\n",
    "model.fit(X_train, y_train)\n"
   ]
  },
  {
   "cell_type": "code",
   "execution_count": 40,
   "id": "99b12b47-de08-49b7-aa00-97079ff0b481",
   "metadata": {},
   "outputs": [],
   "source": [
    "y_pred = model.predict(X_val)"
   ]
  },
  {
   "cell_type": "code",
   "execution_count": 41,
   "id": "e6b48659-4807-4dfa-86ad-a49c03339718",
   "metadata": {},
   "outputs": [
    {
     "name": "stdout",
     "output_type": "stream",
     "text": [
      "N: RMSE = 506.1712, R² = 0.5472\n",
      "P: RMSE = 43.8934, R² = 0.0235\n",
      "K: RMSE = 204.1293, R² = 0.4082\n",
      "Ca: RMSE = 1473.0224, R² = 0.8252\n",
      "Mg: RMSE = 331.8990, R² = 0.6542\n",
      "S: RMSE = 16.4349, R² = -0.0830\n",
      "Fe: RMSE = 44.1104, R² = 0.5502\n",
      "Mn: RMSE = 55.7614, R² = 0.3736\n",
      "Zn: RMSE = 1.9865, R² = 0.0796\n",
      "Cu: RMSE = 5.0314, R² = 0.0466\n",
      "B: RMSE = 0.2287, R² = 0.5533\n"
     ]
    }
   ],
   "source": [
    "from sklearn.metrics import mean_squared_error, r2_score\n",
    "mse_per_target = mean_squared_error(y_val, y_pred, multioutput='raw_values')\n",
    "r2_per_target = r2_score(y_val, y_pred, multioutput='raw_values')\n",
    "\n",
    "for i, (nutrient, mse, r2) in enumerate(zip(target_columns, mse_per_target, r2_per_target)):\n",
    "    rmse = np.sqrt(mse)\n",
    "    print(f\"{nutrient}: RMSE = {rmse:.4f}, R² = {r2:.4f}\")"
   ]
  },
  {
   "cell_type": "code",
   "execution_count": 42,
   "id": "1287e3ed-7543-427e-9bbe-b5cd8e6e67bb",
   "metadata": {},
   "outputs": [
    {
     "name": "stdout",
     "output_type": "stream",
     "text": [
      " RMSE: 484.7784\n"
     ]
    }
   ],
   "source": [
    "mse = mean_squared_error(y_val, y_pred)\n",
    "rmse = np.sqrt(mse)\n",
    "print(f' RMSE: {rmse:.4f}')"
   ]
  },
  {
   "cell_type": "code",
   "execution_count": 43,
   "id": "d203f742-f65c-43ec-8874-6cd37136bee8",
   "metadata": {},
   "outputs": [],
   "source": [
    "test_predictions = model.predict(X_test)"
   ]
  },
  {
   "cell_type": "code",
   "execution_count": 44,
   "id": "29377cd3-5b8d-4f5a-aeb6-f3e674cfa76c",
   "metadata": {},
   "outputs": [],
   "source": [
    "N_pred =  test_predictions[:, 0]  \n",
    "P_pred =  test_predictions[:, 1]  \n",
    "K_pred =  test_predictions[:, 2]  \n",
    "Ca_pred = test_predictions[:, 3] \n",
    "Mg_pred = test_predictions[:, 4] \n",
    "S_pred =  test_predictions[:, 5] \n",
    "Fe_pred = test_predictions[:, 6] \n",
    "Mn_pred = test_predictions[:, 7]  \n",
    "Zn_pred = test_predictions[:, 8] \n",
    "Cu_pred = test_predictions[:, 9] \n",
    "B_pred =  test_predictions[:, 10] "
   ]
  },
  {
   "cell_type": "code",
   "execution_count": 45,
   "id": "f27ae0cf-2ff0-4e47-b4f2-a7a0da430656",
   "metadata": {},
   "outputs": [
    {
     "data": {
      "text/html": [
       "<div>\n",
       "<style scoped>\n",
       "    .dataframe tbody tr th:only-of-type {\n",
       "        vertical-align: middle;\n",
       "    }\n",
       "\n",
       "    .dataframe tbody tr th {\n",
       "        vertical-align: top;\n",
       "    }\n",
       "\n",
       "    .dataframe thead th {\n",
       "        text-align: right;\n",
       "    }\n",
       "</style>\n",
       "<table border=\"1\" class=\"dataframe\">\n",
       "  <thead>\n",
       "    <tr style=\"text-align: right;\">\n",
       "      <th></th>\n",
       "      <th>PID</th>\n",
       "      <th>N</th>\n",
       "      <th>P</th>\n",
       "      <th>K</th>\n",
       "      <th>Ca</th>\n",
       "      <th>Mg</th>\n",
       "      <th>S</th>\n",
       "      <th>Fe</th>\n",
       "      <th>Mn</th>\n",
       "      <th>Zn</th>\n",
       "      <th>Cu</th>\n",
       "      <th>B</th>\n",
       "    </tr>\n",
       "  </thead>\n",
       "  <tbody>\n",
       "    <tr>\n",
       "      <th>0</th>\n",
       "      <td>ID_NGS9Bx</td>\n",
       "      <td>1755.931243</td>\n",
       "      <td>31.782846</td>\n",
       "      <td>222.851904</td>\n",
       "      <td>5558.990242</td>\n",
       "      <td>1539.317345</td>\n",
       "      <td>14.249245</td>\n",
       "      <td>126.482902</td>\n",
       "      <td>165.753261</td>\n",
       "      <td>1.766312</td>\n",
       "      <td>3.414415</td>\n",
       "      <td>0.217132</td>\n",
       "    </tr>\n",
       "    <tr>\n",
       "      <th>1</th>\n",
       "      <td>ID_YdVKXw</td>\n",
       "      <td>1440.065046</td>\n",
       "      <td>8.286716</td>\n",
       "      <td>192.817973</td>\n",
       "      <td>6088.166810</td>\n",
       "      <td>2297.784136</td>\n",
       "      <td>6.984707</td>\n",
       "      <td>123.744517</td>\n",
       "      <td>121.834070</td>\n",
       "      <td>1.690569</td>\n",
       "      <td>4.438316</td>\n",
       "      <td>0.205894</td>\n",
       "    </tr>\n",
       "    <tr>\n",
       "      <th>2</th>\n",
       "      <td>ID_MZAlfE</td>\n",
       "      <td>1735.795168</td>\n",
       "      <td>3.456613</td>\n",
       "      <td>219.256328</td>\n",
       "      <td>5171.623002</td>\n",
       "      <td>2130.187352</td>\n",
       "      <td>7.810359</td>\n",
       "      <td>133.611112</td>\n",
       "      <td>132.988251</td>\n",
       "      <td>1.352434</td>\n",
       "      <td>4.114458</td>\n",
       "      <td>0.166331</td>\n",
       "    </tr>\n",
       "    <tr>\n",
       "      <th>3</th>\n",
       "      <td>ID_GwCCMN</td>\n",
       "      <td>1671.733568</td>\n",
       "      <td>5.340949</td>\n",
       "      <td>171.394761</td>\n",
       "      <td>5362.992028</td>\n",
       "      <td>1805.530817</td>\n",
       "      <td>8.641349</td>\n",
       "      <td>136.686621</td>\n",
       "      <td>165.219855</td>\n",
       "      <td>1.992525</td>\n",
       "      <td>4.255531</td>\n",
       "      <td>0.164705</td>\n",
       "    </tr>\n",
       "    <tr>\n",
       "      <th>4</th>\n",
       "      <td>ID_K8sowf</td>\n",
       "      <td>1906.884229</td>\n",
       "      <td>2.294350</td>\n",
       "      <td>233.781605</td>\n",
       "      <td>4677.334071</td>\n",
       "      <td>1489.147795</td>\n",
       "      <td>8.206712</td>\n",
       "      <td>131.129460</td>\n",
       "      <td>136.535799</td>\n",
       "      <td>1.634566</td>\n",
       "      <td>3.314964</td>\n",
       "      <td>0.181952</td>\n",
       "    </tr>\n",
       "  </tbody>\n",
       "</table>\n",
       "</div>"
      ],
      "text/plain": [
       "         PID            N          P           K           Ca           Mg  \\\n",
       "0  ID_NGS9Bx  1755.931243  31.782846  222.851904  5558.990242  1539.317345   \n",
       "1  ID_YdVKXw  1440.065046   8.286716  192.817973  6088.166810  2297.784136   \n",
       "2  ID_MZAlfE  1735.795168   3.456613  219.256328  5171.623002  2130.187352   \n",
       "3  ID_GwCCMN  1671.733568   5.340949  171.394761  5362.992028  1805.530817   \n",
       "4  ID_K8sowf  1906.884229   2.294350  233.781605  4677.334071  1489.147795   \n",
       "\n",
       "           S          Fe          Mn        Zn        Cu         B  \n",
       "0  14.249245  126.482902  165.753261  1.766312  3.414415  0.217132  \n",
       "1   6.984707  123.744517  121.834070  1.690569  4.438316  0.205894  \n",
       "2   7.810359  133.611112  132.988251  1.352434  4.114458  0.166331  \n",
       "3   8.641349  136.686621  165.219855  1.992525  4.255531  0.164705  \n",
       "4   8.206712  131.129460  136.535799  1.634566  3.314964  0.181952  "
      ]
     },
     "execution_count": 45,
     "metadata": {},
     "output_type": "execute_result"
    }
   ],
   "source": [
    "submission = pd.DataFrame({'PID': test_df['PID'], 'N': N_pred, 'P': P_pred, 'K': K_pred, 'Ca': Ca_pred, 'Mg': Mg_pred, 'S': S_pred, 'Fe': Fe_pred, 'Mn': Mn_pred, 'Zn': Zn_pred, 'Cu': Cu_pred, 'B': B_pred})\n",
    "submission.head()"
   ]
  },
  {
   "cell_type": "code",
   "execution_count": 46,
   "id": "a3c58f65-27ec-4cbb-8fb7-9edb8abcbd45",
   "metadata": {},
   "outputs": [
    {
     "data": {
      "text/html": [
       "<div>\n",
       "<style scoped>\n",
       "    .dataframe tbody tr th:only-of-type {\n",
       "        vertical-align: middle;\n",
       "    }\n",
       "\n",
       "    .dataframe tbody tr th {\n",
       "        vertical-align: top;\n",
       "    }\n",
       "\n",
       "    .dataframe thead th {\n",
       "        text-align: right;\n",
       "    }\n",
       "</style>\n",
       "<table border=\"1\" class=\"dataframe\">\n",
       "  <thead>\n",
       "    <tr style=\"text-align: right;\">\n",
       "      <th></th>\n",
       "      <th>PID</th>\n",
       "      <th>Nutrient</th>\n",
       "      <th>Available_Nutrients_in_ppm</th>\n",
       "    </tr>\n",
       "  </thead>\n",
       "  <tbody>\n",
       "    <tr>\n",
       "      <th>19869</th>\n",
       "      <td>ID_002W8m</td>\n",
       "      <td>Zn</td>\n",
       "      <td>2.745487</td>\n",
       "    </tr>\n",
       "    <tr>\n",
       "      <th>15033</th>\n",
       "      <td>ID_002W8m</td>\n",
       "      <td>Fe</td>\n",
       "      <td>197.018715</td>\n",
       "    </tr>\n",
       "    <tr>\n",
       "      <th>2943</th>\n",
       "      <td>ID_002W8m</td>\n",
       "      <td>P</td>\n",
       "      <td>0.758950</td>\n",
       "    </tr>\n",
       "    <tr>\n",
       "      <th>24705</th>\n",
       "      <td>ID_002W8m</td>\n",
       "      <td>B</td>\n",
       "      <td>0.337570</td>\n",
       "    </tr>\n",
       "    <tr>\n",
       "      <th>525</th>\n",
       "      <td>ID_002W8m</td>\n",
       "      <td>N</td>\n",
       "      <td>1981.093891</td>\n",
       "    </tr>\n",
       "  </tbody>\n",
       "</table>\n",
       "</div>"
      ],
      "text/plain": [
       "             PID Nutrient  Available_Nutrients_in_ppm\n",
       "19869  ID_002W8m       Zn                    2.745487\n",
       "15033  ID_002W8m       Fe                  197.018715\n",
       "2943   ID_002W8m        P                    0.758950\n",
       "24705  ID_002W8m        B                    0.337570\n",
       "525    ID_002W8m        N                 1981.093891"
      ]
     },
     "execution_count": 46,
     "metadata": {},
     "output_type": "execute_result"
    }
   ],
   "source": [
    "\n",
    "submission_melted = submission.melt(id_vars=['PID'], var_name='Nutrient', value_name='Available_Nutrients_in_ppm')\n",
    "submission_melted = submission_melted.sort_values('PID')\n",
    "submission_melted.head()"
   ]
  },
  {
   "cell_type": "code",
   "execution_count": 47,
   "id": "932aa2ed-e992-46a3-9cd2-779bd812719e",
   "metadata": {},
   "outputs": [],
   "source": [
    "nutrient_df = pd.merge(test_gap_df, submission_melted, on=['PID', 'Nutrient'], how='left')"
   ]
  },
  {
   "cell_type": "code",
   "execution_count": 48,
   "id": "2650cbf9-9fd5-42c5-a008-11bec3844e45",
   "metadata": {},
   "outputs": [],
   "source": [
    "soil_depth = 20 \n",
    "nutrient_df['Available_Nutrients_in_kg_ha'] = (nutrient_df['Available_Nutrients_in_ppm']\n",
    "                                               * soil_depth * nutrient_df['BulkDensity'] * 0.1)"
   ]
  },
  {
   "cell_type": "code",
   "execution_count": 49,
   "id": "a321e572-8468-4600-9a85-7f94c47c8220",
   "metadata": {},
   "outputs": [],
   "source": [
    "nutrient_df[\"Gap\"] = nutrient_df[\"Required\"] - nutrient_df[\"Available_Nutrients_in_kg_ha\"]"
   ]
  },
  {
   "cell_type": "code",
   "execution_count": 50,
   "id": "977ad90c-aa2c-4b32-8620-e601b67567e9",
   "metadata": {},
   "outputs": [
    {
     "data": {
      "text/html": [
       "<div>\n",
       "<style scoped>\n",
       "    .dataframe tbody tr th:only-of-type {\n",
       "        vertical-align: middle;\n",
       "    }\n",
       "\n",
       "    .dataframe tbody tr th {\n",
       "        vertical-align: top;\n",
       "    }\n",
       "\n",
       "    .dataframe thead th {\n",
       "        text-align: right;\n",
       "    }\n",
       "</style>\n",
       "<table border=\"1\" class=\"dataframe\">\n",
       "  <thead>\n",
       "    <tr style=\"text-align: right;\">\n",
       "      <th></th>\n",
       "      <th>ID</th>\n",
       "      <th>Gap</th>\n",
       "    </tr>\n",
       "  </thead>\n",
       "  <tbody>\n",
       "    <tr>\n",
       "      <th>0</th>\n",
       "      <td>ID_NGS9Bx_N</td>\n",
       "      <td>-4114.234982</td>\n",
       "    </tr>\n",
       "    <tr>\n",
       "      <th>1</th>\n",
       "      <td>ID_NGS9Bx_P</td>\n",
       "      <td>-36.278830</td>\n",
       "    </tr>\n",
       "    <tr>\n",
       "      <th>2</th>\n",
       "      <td>ID_NGS9Bx_K</td>\n",
       "      <td>-482.844571</td>\n",
       "    </tr>\n",
       "    <tr>\n",
       "      <th>3</th>\n",
       "      <td>ID_NGS9Bx_Ca</td>\n",
       "      <td>-13329.576581</td>\n",
       "    </tr>\n",
       "    <tr>\n",
       "      <th>4</th>\n",
       "      <td>ID_NGS9Bx_Mg</td>\n",
       "      <td>-3686.361628</td>\n",
       "    </tr>\n",
       "  </tbody>\n",
       "</table>\n",
       "</div>"
      ],
      "text/plain": [
       "             ID           Gap\n",
       "0   ID_NGS9Bx_N  -4114.234982\n",
       "1   ID_NGS9Bx_P    -36.278830\n",
       "2   ID_NGS9Bx_K   -482.844571\n",
       "3  ID_NGS9Bx_Ca -13329.576581\n",
       "4  ID_NGS9Bx_Mg  -3686.361628"
      ]
     },
     "execution_count": 50,
     "metadata": {},
     "output_type": "execute_result"
    }
   ],
   "source": [
    "nutrient_df['ID'] = nutrient_df['PID'] + \"_\" + nutrient_df['Nutrient']\n",
    "nutrient_df = nutrient_df[['ID', 'Gap']]\n",
    "nutrient_df.head()"
   ]
  },
  {
   "cell_type": "code",
   "execution_count": 51,
   "id": "293b930d-9017-4461-8334-4d2e6a915225",
   "metadata": {},
   "outputs": [
    {
     "name": "stdout",
     "output_type": "stream",
     "text": [
      "Submission file saved as submission.csv\n"
     ]
    }
   ],
   "source": [
    "nutrient_df.to_csv('submission.csv', index=False)\n",
    "print(\"Submission file saved as submission.csv\")"
   ]
  },
  {
   "cell_type": "code",
   "execution_count": null,
   "id": "d2f1ca27-4620-4cb4-823e-169dcdbfcbb6",
   "metadata": {},
   "outputs": [],
   "source": []
  },
  {
   "cell_type": "code",
   "execution_count": null,
   "id": "5a0ec81a-a6c7-4d63-887c-76b3ba403cb3",
   "metadata": {},
   "outputs": [],
   "source": []
  },
  {
   "cell_type": "code",
   "execution_count": null,
   "id": "a835044f-a14a-4029-aaa4-8d22db30fe5d",
   "metadata": {},
   "outputs": [],
   "source": []
  },
  {
   "cell_type": "code",
   "execution_count": null,
   "id": "b4d14765-f8db-46bc-a78f-7654d594e4cb",
   "metadata": {},
   "outputs": [],
   "source": []
  }
 ],
 "metadata": {
  "kernelspec": {
   "display_name": "Python 3 (ipykernel)",
   "language": "python",
   "name": "python3"
  },
  "language_info": {
   "codemirror_mode": {
    "name": "ipython",
    "version": 3
   },
   "file_extension": ".py",
   "mimetype": "text/x-python",
   "name": "python",
   "nbconvert_exporter": "python",
   "pygments_lexer": "ipython3",
   "version": "3.13.3"
  }
 },
 "nbformat": 4,
 "nbformat_minor": 5
}
