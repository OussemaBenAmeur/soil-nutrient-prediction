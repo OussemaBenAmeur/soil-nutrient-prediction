{
 "cells": [
  {
   "cell_type": "code",
   "execution_count": 1,
   "id": "965d35f0-b55a-4d4c-bf8f-7b485d17fd9e",
   "metadata": {},
   "outputs": [],
   "source": [
    "import pandas as pd\n",
    "import numpy as np\n",
    "import matplotlib.pyplot as plt\n",
    "import seaborn as sns \n",
    "import warnings\n",
    "warnings.filterwarnings('ignore')"
   ]
  },
  {
   "cell_type": "code",
   "execution_count": 2,
   "id": "041a19dc-2126-4cf8-a362-bfa6a35986ac",
   "metadata": {},
   "outputs": [],
   "source": [
    "satelite_df=pd.read_csv('satelite_df.csv')"
   ]
  },
  {
   "cell_type": "code",
   "execution_count": 3,
   "id": "5af8da6e-5470-4b19-afd0-612d625ace60",
   "metadata": {},
   "outputs": [],
   "source": [
    "satelite_test_df=pd.read_csv('satelite_test_df.csv')"
   ]
  },
  {
   "cell_type": "code",
   "execution_count": 4,
   "id": "f4dbccf9-1e8e-4477-821a-b86dc2450daf",
   "metadata": {},
   "outputs": [],
   "source": [
    "satelite_df['date'] = pd.to_datetime(satelite_df['date'])\n",
    "satelite_test_df['date'] = pd.to_datetime(satelite_test_df['date'])"
   ]
  },
  {
   "cell_type": "code",
   "execution_count": 5,
   "id": "8d382707-9018-4ed6-86ab-a1a79a837f0a",
   "metadata": {},
   "outputs": [],
   "source": [
    "satelite_df.drop(columns=['B11', 'B12', 'B2', 'B3', 'B4', 'B5', 'B6', 'B7', 'B8',\n",
    "       'B8A'],inplace=True)"
   ]
  },
  {
   "cell_type": "code",
   "execution_count": 6,
   "id": "79874039-46b9-4eaf-b9a8-799c4a2250b4",
   "metadata": {},
   "outputs": [],
   "source": [
    "satelite_test_df.drop(columns=['B11', 'B12', 'B2', 'B3', 'B4', 'B5', 'B6', 'B7', 'B8',\n",
    "       'B8A'],inplace=True)"
   ]
  },
  {
   "cell_type": "code",
   "execution_count": 7,
   "id": "702b6d2a-fee3-4cbf-99f5-22642431bcd7",
   "metadata": {},
   "outputs": [],
   "source": [
    "satelite_df=satelite_df[['PID', 'date','b01', 'b02', 'b03', 'b04', 'b05', 'b06',\n",
    "       'b07','ST_B10','LST_Day_1km', 'LST_Night_1km','ET','PET', 'EVI','NDVI','VH',\n",
    "                         'VV','relativeOrbitNumber_start']]"
   ]
  },
  {
   "cell_type": "code",
   "execution_count": 8,
   "id": "0051f80d-5246-4a69-a97c-0ab0900a82c3",
   "metadata": {},
   "outputs": [],
   "source": [
    "satelite_test_df=satelite_test_df[['PID', 'date','b01', 'b02', 'b03', 'b04', 'b05', 'b06',\n",
    "       'b07','ST_B10','LST_Day_1km', 'LST_Night_1km','ET','PET', 'EVI','NDVI','VH',\n",
    "                         'VV','relativeOrbitNumber_start']]"
   ]
  },
  {
   "cell_type": "code",
   "execution_count": null,
   "id": "b76b7454-938d-472c-bfa1-4c0889033959",
   "metadata": {},
   "outputs": [],
   "source": [
    "import pandas as pd\n",
    "import seaborn as sns\n",
    "import matplotlib.pyplot as plt\n",
    "\n",
    "\n",
    "features = [\n",
    "    'b01', 'b02', 'b03', 'b04', 'b05', 'b06', 'b07',\n",
    "    'ST_B10', 'LST_Day_1km', 'LST_Night_1km',\n",
    "    'ET', 'PET', 'EVI', 'NDVI', 'VH', 'VV',\n",
    "    'relativeOrbitNumber_start'\n",
    "]\n",
    "\n",
    "\n",
    "satelite_df_subset = satelite_df[features].dropna(how='all')\n",
    "\n",
    "\n",
    "corr = satelite_df_subset.corr()\n",
    "\n",
    "\n",
    "plt.figure(figsize=(12, 10))\n",
    "sns.heatmap(corr, annot=True, fmt=\".2f\", cmap='coolwarm', vmin=-1, vmax=1)\n",
    "plt.title(\"Correlation Heatmap of Selected Features\")\n",
    "plt.show()\n"
   ]
  },
  {
   "cell_type": "markdown",
   "id": "92907e0f-11f1-4db0-bd1f-b16e3fb74d02",
   "metadata": {},
   "source": [
    "# 1"
   ]
  },
  {
   "cell_type": "code",
   "execution_count": 11,
   "id": "6bbec030-4288-48e3-9d79-617440228fef",
   "metadata": {},
   "outputs": [],
   "source": [
    "satelite_bands=pd.DataFrame()"
   ]
  },
  {
   "cell_type": "code",
   "execution_count": 36,
   "id": "135a5a3b-d348-41bd-b638-de4df23115b1",
   "metadata": {},
   "outputs": [],
   "source": [
    "satelite_test_bands=pd.DataFrame()"
   ]
  },
  {
   "cell_type": "code",
   "execution_count": 13,
   "id": "bd5e0764-0cf3-4e6c-8fad-dea1a3a82ac0",
   "metadata": {},
   "outputs": [],
   "source": [
    "satelite_bands[['PID','date','b01', 'b02', 'b03', 'b04', 'b05', 'b06',\n",
    "       'b07']]=satelite_df[['PID','date','b01', 'b02', 'b03', 'b04', 'b05', 'b06',\n",
    "       'b07']]"
   ]
  },
  {
   "cell_type": "code",
   "execution_count": 37,
   "id": "9354ae18-ed24-430e-ab0d-ea688edbea2f",
   "metadata": {},
   "outputs": [],
   "source": [
    "satelite_test_bands[['PID','date','b01', 'b02', 'b03', 'b04', 'b05', 'b06',\n",
    "       'b07']]=satelite_test_df[['PID','date','b01', 'b02', 'b03', 'b04', 'b05', 'b06',\n",
    "       'b07']]"
   ]
  },
  {
   "cell_type": "code",
   "execution_count": 18,
   "id": "6d5a50d6-9544-4e24-9784-d2eb998f3b84",
   "metadata": {},
   "outputs": [
    {
     "data": {
      "text/plain": [
       "PID           0\n",
       "date          0\n",
       "b01     1804093\n",
       "b02     1804093\n",
       "b03     1804093\n",
       "b04     1817448\n",
       "b05     2395625\n",
       "b06     2395625\n",
       "b07     2307544\n",
       "dtype: int64"
      ]
     },
     "execution_count": 18,
     "metadata": {},
     "output_type": "execute_result"
    }
   ],
   "source": [
    "satelite_bands.isnull().sum()"
   ]
  },
  {
   "cell_type": "code",
   "execution_count": 19,
   "id": "0e59d502-e644-4014-bfed-7eaa02f76ec0",
   "metadata": {},
   "outputs": [
    {
     "data": {
      "text/plain": [
       "8485722"
      ]
     },
     "execution_count": 19,
     "metadata": {},
     "output_type": "execute_result"
    }
   ],
   "source": [
    "len(satelite_bands)"
   ]
  },
  {
   "cell_type": "code",
   "execution_count": 30,
   "id": "13f3a7a9-4ce2-47ea-bf6d-b4dfee511151",
   "metadata": {},
   "outputs": [],
   "source": [
    "\n",
    "satelite_bands['date'] = pd.to_datetime(satelite_bands['date'])\n",
    "\n",
    "satelite_bands['2month_bin'] = satelite_bands['date'].dt.to_period('M').apply(\n",
    "    lambda p: pd.Period(f\"{p.year}-{(p.month - 1)//2*2 + 1:02d}\", freq='M')\n",
    ")\n",
    "\n",
    "satelite_bands_agg = satelite_bands.groupby(['PID', '2month_bin']).mean(numeric_only=True).reset_index()\n",
    "\n",
    "\n",
    "wide = satelite_bands_agg.pivot(index='PID', columns='2month_bin')\n",
    "\n",
    "\n",
    "wide.columns = [f\"{band}_{period}\" for band, period in wide.columns]\n",
    "wide = wide.reset_index()\n",
    "\n",
    "\n",
    "for col in wide.columns:\n",
    "    if col == 'PID':\n",
    "        continue\n",
    "    wide[col] = wide[col].fillna(wide[col].mean())\n"
   ]
  },
  {
   "cell_type": "code",
   "execution_count": 38,
   "id": "165ca5d3-e87d-4aac-b7a1-149fbc31d132",
   "metadata": {},
   "outputs": [],
   "source": [
    "\n",
    "satelite_test_bands['date'] = pd.to_datetime(satelite_test_bands['date'])\n",
    "\n",
    "satelite_test_bands['2month_bin'] = satelite_test_bands['date'].dt.to_period('M').apply(\n",
    "    lambda p: pd.Period(f\"{p.year}-{(p.month - 1)//2*2 + 1:02d}\", freq='M')\n",
    ")\n",
    "\n",
    "\n",
    "satelite_test_bands_agg = satelite_test_bands.groupby(['PID', '2month_bin']).mean(numeric_only=True).reset_index()\n",
    "\n",
    "\n",
    "wide_test = satelite_test_bands_agg.pivot(index='PID', columns='2month_bin')\n",
    "\n",
    "wide_test.columns = [f\"{band}_{period}\" for band, period in wide_test.columns]\n",
    "wide_test = wide_test.reset_index()\n",
    "\n",
    "\n",
    "for col in wide_test.columns:\n",
    "    if col == 'PID':\n",
    "        continue\n",
    "    wide_test[col] = wide_test[col].fillna(wide_test[col].mean())\n"
   ]
  },
  {
   "cell_type": "code",
   "execution_count": 39,
   "id": "39ee3f81-00c5-4eb8-96f4-cb24ed8d38c4",
   "metadata": {},
   "outputs": [
    {
     "data": {
      "text/plain": [
       "2418"
      ]
     },
     "execution_count": 39,
     "metadata": {},
     "output_type": "execute_result"
    }
   ],
   "source": [
    "wide_test['PID'].nunique()"
   ]
  },
  {
   "cell_type": "code",
   "execution_count": 40,
   "id": "bf321237-84dc-4d59-81ad-f5778e29ef30",
   "metadata": {},
   "outputs": [],
   "source": [
    "wide.to_csv('bands.csv', index=False)"
   ]
  },
  {
   "cell_type": "code",
   "execution_count": 41,
   "id": "b6615750-abf8-497d-90dd-581e5da81cac",
   "metadata": {},
   "outputs": [],
   "source": [
    "wide_test.to_csv('bands_test.csv', index=False)"
   ]
  },
  {
   "cell_type": "code",
   "execution_count": null,
   "id": "af2824f2-74b6-40b3-be02-5acbbcd0b3d3",
   "metadata": {},
   "outputs": [],
   "source": []
  },
  {
   "cell_type": "code",
   "execution_count": null,
   "id": "641b2b97-35f6-4aee-83d6-143397e5bfbc",
   "metadata": {},
   "outputs": [],
   "source": []
  },
  {
   "cell_type": "code",
   "execution_count": null,
   "id": "2fa7c5ab-98d4-4bf3-b8da-6cddd847e36f",
   "metadata": {},
   "outputs": [],
   "source": []
  },
  {
   "cell_type": "code",
   "execution_count": null,
   "id": "05271402-edd1-4b3c-9b0b-1e67a4adf46b",
   "metadata": {},
   "outputs": [],
   "source": []
  }
 ],
 "metadata": {
  "kernelspec": {
   "display_name": "Python 3 (ipykernel)",
   "language": "python",
   "name": "python3"
  },
  "language_info": {
   "codemirror_mode": {
    "name": "ipython",
    "version": 3
   },
   "file_extension": ".py",
   "mimetype": "text/x-python",
   "name": "python",
   "nbconvert_exporter": "python",
   "pygments_lexer": "ipython3",
   "version": "3.13.3"
  }
 },
 "nbformat": 4,
 "nbformat_minor": 5
}
