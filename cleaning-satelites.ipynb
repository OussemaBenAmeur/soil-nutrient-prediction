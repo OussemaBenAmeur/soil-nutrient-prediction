{
 "cells": [
  {
   "cell_type": "code",
   "execution_count": 2,
   "id": "8668dbd8-4e49-4717-a518-369453abe6c4",
   "metadata": {},
   "outputs": [],
   "source": [
    "import pandas as pd\n",
    "import numpy as np\n",
    "import matplotlib.pyplot as plt\n",
    "import seaborn as sns \n",
    "import warnings\n",
    "warnings.filterwarnings('ignore')"
   ]
  },
  {
   "cell_type": "code",
   "execution_count": 3,
   "id": "a012ca80-1f3f-41f3-8729-c02800bded3b",
   "metadata": {},
   "outputs": [],
   "source": [
    "landsat = pd.read_csv(r'LANDSAT8_data_updated.csv')\n",
    "landsat['date'] = pd.to_datetime(landsat['date'])\n",
    "landsat.drop(columns=['lat', 'lon'], inplace=True)"
   ]
  },
  {
   "cell_type": "code",
   "execution_count": 4,
   "id": "4d991610-5f0b-47dd-8fff-5ff7034bac9c",
   "metadata": {},
   "outputs": [],
   "source": [
    "modis_1 = pd.read_csv(r'MODIS_MOD09GA_data.csv')\n",
    "modis_1['date'] = pd.to_datetime(modis_1['date'])\n",
    "modis_1.drop(columns=['lat', 'lon'], inplace=True)"
   ]
  },
  {
   "cell_type": "code",
   "execution_count": 5,
   "id": "2b2d7332-4db8-4dfc-9034-e9efc48538c8",
   "metadata": {},
   "outputs": [],
   "source": [
    "modis_2 = pd.read_csv(r'MODIS_MOD11A1_data.csv')\n",
    "modis_2['date'] = pd.to_datetime(modis_2['date'])\n",
    "modis_2.drop(columns=['lat', 'lon'], inplace=True)"
   ]
  },
  {
   "cell_type": "code",
   "execution_count": 6,
   "id": "64796b63-9bc8-4ba3-9c9b-9edf4ba55e33",
   "metadata": {},
   "outputs": [],
   "source": [
    "modis_3 = pd.read_csv(r'MODIS_MOD16A2_data.csv')\n",
    "modis_3['date'] = pd.to_datetime(modis_3['date'])\n",
    "modis_3.drop(columns=['lat', 'lon'], inplace=True)"
   ]
  },
  {
   "cell_type": "code",
   "execution_count": 7,
   "id": "841dfb95-4658-42cb-91a8-31871f9d28c6",
   "metadata": {},
   "outputs": [],
   "source": [
    "modis_4 = pd.read_csv(r'MODIS_MOD13Q1_data.csv')\n",
    "modis_4['date'] = pd.to_datetime(modis_4['date'])\n",
    "modis_4.drop(columns=['lat', 'lon'], inplace=True)"
   ]
  },
  {
   "cell_type": "code",
   "execution_count": 8,
   "id": "9f9d3866-786f-404a-b10e-1ce7bf32ffb3",
   "metadata": {},
   "outputs": [],
   "source": [
    "modis_5 = pd.read_csv(r'MODIS_MCD43A4_data.csv')\n",
    "modis_5['date'] = pd.to_datetime(modis_5['date'])\n",
    "modis_5.drop(columns=['lat', 'lon'], inplace=True)"
   ]
  },
  {
   "cell_type": "code",
   "execution_count": 134,
   "id": "eaeca55f-777b-4816-bd8e-bd6a3e62a08f",
   "metadata": {},
   "outputs": [],
   "source": [
    "sentinel_1 = pd.read_csv(r'Sentinel1_data.csv')\n",
    "sentinel_1['date'] = pd.to_datetime(sentinel_1['date'])\n",
    "sentinel_1.drop(columns=['lat', 'lon'], inplace=True)"
   ]
  },
  {
   "cell_type": "code",
   "execution_count": 170,
   "id": "4e1bb315-d2c7-447b-84d6-705bffb4023b",
   "metadata": {},
   "outputs": [],
   "source": [
    "sentinel_2 = pd.read_csv(r'Sentinel2_data.csv')\n",
    "sentinel_2['date'] = pd.to_datetime(sentinel_2['date'])\n",
    "sentinel_2.drop(columns=['lat', 'lon'], inplace=True)"
   ]
  },
  {
   "cell_type": "code",
   "execution_count": 11,
   "id": "bbdf683e-1ed7-400b-a68a-ed9dc4324505",
   "metadata": {},
   "outputs": [],
   "source": [
    "satelites = [modis_1, modis_2, modis_3, modis_4, modis_5, sentinel_1, sentinel_2, landsat]\n",
    "satelite_names = ['modis_1', 'modis_2', 'modis_3', 'modis_4', 'modis_5', 'sentinel_1', 'sentinel_2', 'landsat']"
   ]
  },
  {
   "cell_type": "markdown",
   "id": "ac170b91-211a-4a8b-9309-42d3f3f2b2d5",
   "metadata": {},
   "source": [
    "# landsat"
   ]
  },
  {
   "cell_type": "code",
   "execution_count": 12,
   "id": "70409a6c-4046-4001-bdf7-43de5144e0bf",
   "metadata": {},
   "outputs": [
    {
     "name": "stdout",
     "output_type": "stream",
     "text": [
      "landsat Columns:\n",
      " Index(['QA_PIXEL', 'QA_RADSAT', 'SR_B1', 'SR_B2', 'SR_B3', 'SR_B4', 'SR_B5',\n",
      "       'SR_B6', 'SR_B7', 'ST_B10', 'date', 'PID'],\n",
      "      dtype='object') \n",
      "\n"
     ]
    }
   ],
   "source": [
    "print(\"landsat Columns:\\n\", landsat.columns, \"\\n\")"
   ]
  },
  {
   "cell_type": "code",
   "execution_count": 13,
   "id": "7869a036-5efd-4803-9749-be8d5604975a",
   "metadata": {},
   "outputs": [
    {
     "data": {
      "text/plain": [
       "QA_PIXEL     0\n",
       "QA_RADSAT    0\n",
       "SR_B1        0\n",
       "SR_B2        0\n",
       "SR_B3        0\n",
       "SR_B4        0\n",
       "SR_B5        0\n",
       "SR_B6        0\n",
       "SR_B7        0\n",
       "ST_B10       0\n",
       "date         0\n",
       "PID          0\n",
       "dtype: int64"
      ]
     },
     "execution_count": 13,
     "metadata": {},
     "output_type": "execute_result"
    }
   ],
   "source": [
    "landsat.isnull().sum()"
   ]
  },
  {
   "cell_type": "code",
   "execution_count": 14,
   "id": "87f1ad92-3f7f-49ed-a8cc-6584ebeedc00",
   "metadata": {},
   "outputs": [],
   "source": [
    "def is_good_pixel(qa_pixel):\n",
    "    \"\"\"\n",
    "    Returns True if pixel is not affected by fill, cloud, shadow, or snow.\n",
    "    \"\"\"\n",
    "    return (\n",
    "        (qa_pixel & (1 << 0)) == 0 and  # Fill\n",
    "        (qa_pixel & (1 << 1)) == 0 and  # Dilated cloud\n",
    "        (qa_pixel & (1 << 3)) == 0 and  # Cloud\n",
    "        (qa_pixel & (1 << 4)) == 0 and  # Cloud shadow\n",
    "        (qa_pixel & (1 << 5)) == 0      # Snow\n",
    "    )\n",
    "\n",
    "def is_not_saturated(qa_radsat, band_bits):\n",
    "    \"\"\"\n",
    "    Returns True if none of the specified band bits are saturated.\n",
    "    band_bits is a list of bits corresponding to SR_Bx bands.\n",
    "    \"\"\"\n",
    "    return all((qa_radsat & (1 << bit)) == 0 for bit in band_bits)\n",
    "\n",
    "def clean_landsat(df):\n",
    "    band_to_bit = {\n",
    "        'SR_B1': 0, 'SR_B2': 1, 'SR_B3': 2,\n",
    "        'SR_B4': 3, 'SR_B5': 4, 'SR_B6': 5, 'SR_B7': 6\n",
    "    }\n",
    "\n",
    "    def row_is_clean(row):\n",
    "        used_bands = [b for b in band_to_bit if b in row.index]\n",
    "        band_bits = [band_to_bit[b] for b in used_bands]\n",
    "        return is_good_pixel(row['QA_PIXEL']) and is_not_saturated(row['QA_RADSAT'], band_bits)\n",
    "\n",
    " \n",
    "    mask = df.apply(row_is_clean, axis=1)\n",
    "    return df[mask].copy()\n",
    "\n",
    "landsat = clean_landsat(landsat)\n"
   ]
  },
  {
   "cell_type": "code",
   "execution_count": 15,
   "id": "5b308ba6-881a-4d7e-81f9-722cdcc8695d",
   "metadata": {},
   "outputs": [],
   "source": [
    "landsat.drop(columns=['QA_PIXEL','QA_RADSAT'],inplace=True)"
   ]
  },
  {
   "cell_type": "code",
   "execution_count": 16,
   "id": "355b73d6-7870-46f4-a0c3-a2c8337e26b1",
   "metadata": {},
   "outputs": [
    {
     "name": "stdout",
     "output_type": "stream",
     "text": [
      "0\n"
     ]
    }
   ],
   "source": [
    "print(landsat.duplicated().sum())"
   ]
  },
  {
   "cell_type": "code",
   "execution_count": 17,
   "id": "2900cc57-c7ab-41d5-bae3-6684c90f9adc",
   "metadata": {},
   "outputs": [
    {
     "name": "stdout",
     "output_type": "stream",
     "text": [
      "1176699\n"
     ]
    }
   ],
   "source": [
    "print(landsat.duplicated(subset=['PID', 'date']).sum())"
   ]
  },
  {
   "cell_type": "markdown",
   "id": "1472545c-7929-4925-a310-68af2f0e0604",
   "metadata": {},
   "source": [
    "### Multiple sensing per day\n",
    "#### aggregating with median"
   ]
  },
  {
   "cell_type": "code",
   "execution_count": 18,
   "id": "24b557fc-1b44-490a-9337-f1da36524846",
   "metadata": {},
   "outputs": [],
   "source": [
    "landsat = landsat.groupby(['PID', 'date']).median().reset_index()"
   ]
  },
  {
   "cell_type": "code",
   "execution_count": 19,
   "id": "7fa4abed-74dc-4c66-b77e-fd8eefa16410",
   "metadata": {},
   "outputs": [],
   "source": [
    "landsat.rename(columns={\n",
    "    'SR_B1': 'b01',\n",
    "   'SR_B2': 'b02',\n",
    "   'SR_B3': 'b03',\n",
    "    'SR_B4': 'b04',\n",
    "    'SR_B5':'b05',\n",
    "    'SR_B6':'b06',\n",
    "    'SR_B7':'b07',\n",
    "}, inplace=True)"
   ]
  },
  {
   "cell_type": "code",
   "execution_count": 21,
   "id": "6200c0e0-02c2-4f1e-8ad6-609c8eba4077",
   "metadata": {},
   "outputs": [
    {
     "data": {
      "text/html": [
       "<div>\n",
       "<style scoped>\n",
       "    .dataframe tbody tr th:only-of-type {\n",
       "        vertical-align: middle;\n",
       "    }\n",
       "\n",
       "    .dataframe tbody tr th {\n",
       "        vertical-align: top;\n",
       "    }\n",
       "\n",
       "    .dataframe thead th {\n",
       "        text-align: right;\n",
       "    }\n",
       "</style>\n",
       "<table border=\"1\" class=\"dataframe\">\n",
       "  <thead>\n",
       "    <tr style=\"text-align: right;\">\n",
       "      <th></th>\n",
       "      <th>PID</th>\n",
       "      <th>date</th>\n",
       "      <th>b01</th>\n",
       "      <th>b02</th>\n",
       "      <th>b03</th>\n",
       "      <th>b04</th>\n",
       "      <th>b05</th>\n",
       "      <th>b06</th>\n",
       "      <th>b07</th>\n",
       "      <th>ST_B10</th>\n",
       "    </tr>\n",
       "  </thead>\n",
       "  <tbody>\n",
       "    <tr>\n",
       "      <th>0</th>\n",
       "      <td>ID_002W8m</td>\n",
       "      <td>2017-01-22</td>\n",
       "      <td>0.031165</td>\n",
       "      <td>0.041725</td>\n",
       "      <td>0.064962</td>\n",
       "      <td>0.085587</td>\n",
       "      <td>0.178620</td>\n",
       "      <td>0.206643</td>\n",
       "      <td>0.152000</td>\n",
       "      <td>1.079025</td>\n",
       "    </tr>\n",
       "    <tr>\n",
       "      <th>1</th>\n",
       "      <td>ID_002W8m</td>\n",
       "      <td>2017-02-07</td>\n",
       "      <td>0.029075</td>\n",
       "      <td>0.041862</td>\n",
       "      <td>0.070545</td>\n",
       "      <td>0.099007</td>\n",
       "      <td>0.182690</td>\n",
       "      <td>0.223775</td>\n",
       "      <td>0.159013</td>\n",
       "      <td>1.094288</td>\n",
       "    </tr>\n",
       "    <tr>\n",
       "      <th>2</th>\n",
       "      <td>ID_002W8m</td>\n",
       "      <td>2017-02-23</td>\n",
       "      <td>0.031797</td>\n",
       "      <td>0.048517</td>\n",
       "      <td>0.081242</td>\n",
       "      <td>0.112262</td>\n",
       "      <td>0.194927</td>\n",
       "      <td>0.228038</td>\n",
       "      <td>0.168225</td>\n",
       "      <td>1.126545</td>\n",
       "    </tr>\n",
       "    <tr>\n",
       "      <th>3</th>\n",
       "      <td>ID_002W8m</td>\n",
       "      <td>2017-03-10</td>\n",
       "      <td>0.030450</td>\n",
       "      <td>0.042660</td>\n",
       "      <td>0.071232</td>\n",
       "      <td>0.104370</td>\n",
       "      <td>0.187695</td>\n",
       "      <td>0.225810</td>\n",
       "      <td>0.170590</td>\n",
       "      <td>1.145878</td>\n",
       "    </tr>\n",
       "    <tr>\n",
       "      <th>4</th>\n",
       "      <td>ID_002W8m</td>\n",
       "      <td>2017-03-26</td>\n",
       "      <td>0.030505</td>\n",
       "      <td>0.040955</td>\n",
       "      <td>0.065568</td>\n",
       "      <td>0.092957</td>\n",
       "      <td>0.165502</td>\n",
       "      <td>0.195450</td>\n",
       "      <td>0.145042</td>\n",
       "      <td>1.098798</td>\n",
       "    </tr>\n",
       "    <tr>\n",
       "      <th>...</th>\n",
       "      <td>...</td>\n",
       "      <td>...</td>\n",
       "      <td>...</td>\n",
       "      <td>...</td>\n",
       "      <td>...</td>\n",
       "      <td>...</td>\n",
       "      <td>...</td>\n",
       "      <td>...</td>\n",
       "      <td>...</td>\n",
       "      <td>...</td>\n",
       "    </tr>\n",
       "    <tr>\n",
       "      <th>454494</th>\n",
       "      <td>ID_zzVFDw</td>\n",
       "      <td>2019-09-10</td>\n",
       "      <td>0.022860</td>\n",
       "      <td>0.030340</td>\n",
       "      <td>0.075962</td>\n",
       "      <td>0.053852</td>\n",
       "      <td>0.369910</td>\n",
       "      <td>0.175705</td>\n",
       "      <td>0.088090</td>\n",
       "      <td>1.031753</td>\n",
       "    </tr>\n",
       "    <tr>\n",
       "      <th>454495</th>\n",
       "      <td>ID_zzVFDw</td>\n",
       "      <td>2019-09-26</td>\n",
       "      <td>0.026792</td>\n",
       "      <td>0.036115</td>\n",
       "      <td>0.082810</td>\n",
       "      <td>0.064220</td>\n",
       "      <td>0.381350</td>\n",
       "      <td>0.190390</td>\n",
       "      <td>0.100300</td>\n",
       "      <td>1.045200</td>\n",
       "    </tr>\n",
       "    <tr>\n",
       "      <th>454496</th>\n",
       "      <td>ID_zzVFDw</td>\n",
       "      <td>2019-10-12</td>\n",
       "      <td>0.033447</td>\n",
       "      <td>0.045162</td>\n",
       "      <td>0.085120</td>\n",
       "      <td>0.091830</td>\n",
       "      <td>0.344555</td>\n",
       "      <td>0.210602</td>\n",
       "      <td>0.115700</td>\n",
       "      <td>1.083700</td>\n",
       "    </tr>\n",
       "    <tr>\n",
       "      <th>454497</th>\n",
       "      <td>ID_zzVFDw</td>\n",
       "      <td>2019-10-28</td>\n",
       "      <td>0.025060</td>\n",
       "      <td>0.031192</td>\n",
       "      <td>0.066310</td>\n",
       "      <td>0.058775</td>\n",
       "      <td>0.289390</td>\n",
       "      <td>0.167592</td>\n",
       "      <td>0.092187</td>\n",
       "      <td>1.025152</td>\n",
       "    </tr>\n",
       "    <tr>\n",
       "      <th>454498</th>\n",
       "      <td>ID_zzVFDw</td>\n",
       "      <td>2019-12-15</td>\n",
       "      <td>0.040680</td>\n",
       "      <td>0.050607</td>\n",
       "      <td>0.081682</td>\n",
       "      <td>0.095130</td>\n",
       "      <td>0.287382</td>\n",
       "      <td>0.242723</td>\n",
       "      <td>0.163110</td>\n",
       "      <td>1.036730</td>\n",
       "    </tr>\n",
       "  </tbody>\n",
       "</table>\n",
       "<p>454499 rows × 10 columns</p>\n",
       "</div>"
      ],
      "text/plain": [
       "              PID       date       b01       b02       b03       b04  \\\n",
       "0       ID_002W8m 2017-01-22  0.031165  0.041725  0.064962  0.085587   \n",
       "1       ID_002W8m 2017-02-07  0.029075  0.041862  0.070545  0.099007   \n",
       "2       ID_002W8m 2017-02-23  0.031797  0.048517  0.081242  0.112262   \n",
       "3       ID_002W8m 2017-03-10  0.030450  0.042660  0.071232  0.104370   \n",
       "4       ID_002W8m 2017-03-26  0.030505  0.040955  0.065568  0.092957   \n",
       "...           ...        ...       ...       ...       ...       ...   \n",
       "454494  ID_zzVFDw 2019-09-10  0.022860  0.030340  0.075962  0.053852   \n",
       "454495  ID_zzVFDw 2019-09-26  0.026792  0.036115  0.082810  0.064220   \n",
       "454496  ID_zzVFDw 2019-10-12  0.033447  0.045162  0.085120  0.091830   \n",
       "454497  ID_zzVFDw 2019-10-28  0.025060  0.031192  0.066310  0.058775   \n",
       "454498  ID_zzVFDw 2019-12-15  0.040680  0.050607  0.081682  0.095130   \n",
       "\n",
       "             b05       b06       b07    ST_B10  \n",
       "0       0.178620  0.206643  0.152000  1.079025  \n",
       "1       0.182690  0.223775  0.159013  1.094288  \n",
       "2       0.194927  0.228038  0.168225  1.126545  \n",
       "3       0.187695  0.225810  0.170590  1.145878  \n",
       "4       0.165502  0.195450  0.145042  1.098798  \n",
       "...          ...       ...       ...       ...  \n",
       "454494  0.369910  0.175705  0.088090  1.031753  \n",
       "454495  0.381350  0.190390  0.100300  1.045200  \n",
       "454496  0.344555  0.210602  0.115700  1.083700  \n",
       "454497  0.289390  0.167592  0.092187  1.025152  \n",
       "454498  0.287382  0.242723  0.163110  1.036730  \n",
       "\n",
       "[454499 rows x 10 columns]"
      ]
     },
     "execution_count": 21,
     "metadata": {},
     "output_type": "execute_result"
    }
   ],
   "source": [
    "landsat"
   ]
  },
  {
   "cell_type": "code",
   "execution_count": 24,
   "id": "5a2226f1-0eef-4000-8d51-26fdd060d596",
   "metadata": {},
   "outputs": [],
   "source": [
    "landsat.to_csv('landsat_clean.csv', index=False)"
   ]
  },
  {
   "cell_type": "markdown",
   "id": "79ec49a0-9b0f-4c42-98c4-c16b0c88d452",
   "metadata": {},
   "source": [
    "# modis_1"
   ]
  },
  {
   "cell_type": "code",
   "execution_count": 33,
   "id": "2bdae807-dc4c-4089-b5fa-0c3e762ff07a",
   "metadata": {},
   "outputs": [
    {
     "name": "stdout",
     "output_type": "stream",
     "text": [
      "MODIS MOD09GA Columns:\n",
      " Index(['date', 'sur_refl_b01', 'sur_refl_b02', 'sur_refl_b03', 'sur_refl_b04',\n",
      "       'sur_refl_b05', 'sur_refl_b06', 'sur_refl_b07', 'PID'],\n",
      "      dtype='object') \n",
      "\n"
     ]
    }
   ],
   "source": [
    "print(\"MODIS MOD09GA Columns:\\n\", modis_1.columns, \"\\n\")"
   ]
  },
  {
   "cell_type": "code",
   "execution_count": 37,
   "id": "6b4d20f5-ae0b-4e74-9cf5-86af001f7ab3",
   "metadata": {},
   "outputs": [
    {
     "data": {
      "text/plain": [
       "date            0\n",
       "sur_refl_b01    0\n",
       "sur_refl_b02    0\n",
       "sur_refl_b03    0\n",
       "sur_refl_b04    0\n",
       "sur_refl_b05    0\n",
       "sur_refl_b06    0\n",
       "sur_refl_b07    0\n",
       "PID             0\n",
       "dtype: int64"
      ]
     },
     "execution_count": 37,
     "metadata": {},
     "output_type": "execute_result"
    }
   ],
   "source": [
    "modis_1.isnull().sum()"
   ]
  },
  {
   "cell_type": "code",
   "execution_count": 22,
   "id": "07d50dbc-3a5f-447c-b4c2-d9fb5f4da5e6",
   "metadata": {},
   "outputs": [
    {
     "name": "stdout",
     "output_type": "stream",
     "text": [
      "0\n"
     ]
    }
   ],
   "source": [
    "print(landsat.duplicated().sum())"
   ]
  },
  {
   "cell_type": "code",
   "execution_count": 23,
   "id": "7826cdf4-40e9-489a-9c06-909713c44f58",
   "metadata": {},
   "outputs": [
    {
     "name": "stdout",
     "output_type": "stream",
     "text": [
      "0\n"
     ]
    }
   ],
   "source": [
    "print(landsat.duplicated(subset=['PID', 'date']).sum())"
   ]
  },
  {
   "cell_type": "code",
   "execution_count": 25,
   "id": "66a7934c-3bda-4d00-9213-73561e989d26",
   "metadata": {},
   "outputs": [],
   "source": [
    "modis_1.rename(columns={'sur_refl_b01': 'b01',\n",
    "                        'sur_refl_b02': 'b02',\n",
    "                       'sur_refl_b03': 'b03',\n",
    "                       'sur_refl_b04': 'b04',\n",
    "                        'sur_refl_b05': 'b05',\n",
    "                       'sur_refl_b06': 'b06',\n",
    "                        'sur_refl_b07': 'b07'}, inplace=True)\n"
   ]
  },
  {
   "cell_type": "code",
   "execution_count": 29,
   "id": "8c7a99f7-5feb-40a4-9b2e-487c8f76f3a9",
   "metadata": {},
   "outputs": [],
   "source": [
    "modis_1= modis_1[['PID', 'date', 'b01', 'b02', 'b03', 'b04', 'b05', 'b06', 'b07']]\n"
   ]
  },
  {
   "cell_type": "code",
   "execution_count": 30,
   "id": "ba3fa215-abcf-4b94-8dee-55f93ed079ac",
   "metadata": {},
   "outputs": [
    {
     "data": {
      "text/html": [
       "<div>\n",
       "<style scoped>\n",
       "    .dataframe tbody tr th:only-of-type {\n",
       "        vertical-align: middle;\n",
       "    }\n",
       "\n",
       "    .dataframe tbody tr th {\n",
       "        vertical-align: top;\n",
       "    }\n",
       "\n",
       "    .dataframe thead th {\n",
       "        text-align: right;\n",
       "    }\n",
       "</style>\n",
       "<table border=\"1\" class=\"dataframe\">\n",
       "  <thead>\n",
       "    <tr style=\"text-align: right;\">\n",
       "      <th></th>\n",
       "      <th>PID</th>\n",
       "      <th>date</th>\n",
       "      <th>b01</th>\n",
       "      <th>b02</th>\n",
       "      <th>b03</th>\n",
       "      <th>b04</th>\n",
       "      <th>b05</th>\n",
       "      <th>b06</th>\n",
       "      <th>b07</th>\n",
       "    </tr>\n",
       "  </thead>\n",
       "  <tbody>\n",
       "    <tr>\n",
       "      <th>0</th>\n",
       "      <td>ID_I5RGjv</td>\n",
       "      <td>2017-01-01</td>\n",
       "      <td>0.1997</td>\n",
       "      <td>0.2713</td>\n",
       "      <td>0.1469</td>\n",
       "      <td>0.1705</td>\n",
       "      <td>0.3020</td>\n",
       "      <td>0.2922</td>\n",
       "      <td>0.1887</td>\n",
       "    </tr>\n",
       "    <tr>\n",
       "      <th>1</th>\n",
       "      <td>ID_8jWzJ5</td>\n",
       "      <td>2017-01-01</td>\n",
       "      <td>0.2831</td>\n",
       "      <td>0.3459</td>\n",
       "      <td>0.2686</td>\n",
       "      <td>0.2642</td>\n",
       "      <td>0.3604</td>\n",
       "      <td>0.3223</td>\n",
       "      <td>0.2089</td>\n",
       "    </tr>\n",
       "    <tr>\n",
       "      <th>2</th>\n",
       "      <td>ID_d009mj</td>\n",
       "      <td>2017-01-01</td>\n",
       "      <td>0.1619</td>\n",
       "      <td>0.2510</td>\n",
       "      <td>0.0697</td>\n",
       "      <td>0.1162</td>\n",
       "      <td>0.2792</td>\n",
       "      <td>0.2783</td>\n",
       "      <td>0.1895</td>\n",
       "    </tr>\n",
       "    <tr>\n",
       "      <th>3</th>\n",
       "      <td>ID_2ymCjP</td>\n",
       "      <td>2017-01-01</td>\n",
       "      <td>0.1520</td>\n",
       "      <td>0.2482</td>\n",
       "      <td>0.0619</td>\n",
       "      <td>0.1032</td>\n",
       "      <td>0.2814</td>\n",
       "      <td>0.2783</td>\n",
       "      <td>0.1878</td>\n",
       "    </tr>\n",
       "    <tr>\n",
       "      <th>4</th>\n",
       "      <td>ID_YIft2H</td>\n",
       "      <td>2017-01-01</td>\n",
       "      <td>0.1664</td>\n",
       "      <td>0.2496</td>\n",
       "      <td>0.0727</td>\n",
       "      <td>0.1187</td>\n",
       "      <td>0.2980</td>\n",
       "      <td>0.2710</td>\n",
       "      <td>0.1924</td>\n",
       "    </tr>\n",
       "    <tr>\n",
       "      <th>...</th>\n",
       "      <td>...</td>\n",
       "      <td>...</td>\n",
       "      <td>...</td>\n",
       "      <td>...</td>\n",
       "      <td>...</td>\n",
       "      <td>...</td>\n",
       "      <td>...</td>\n",
       "      <td>...</td>\n",
       "      <td>...</td>\n",
       "    </tr>\n",
       "    <tr>\n",
       "      <th>7486442</th>\n",
       "      <td>ID_hH2j07</td>\n",
       "      <td>2019-12-30</td>\n",
       "      <td>0.0808</td>\n",
       "      <td>0.2540</td>\n",
       "      <td>0.0312</td>\n",
       "      <td>0.0619</td>\n",
       "      <td>0.2863</td>\n",
       "      <td>0.2501</td>\n",
       "      <td>0.1461</td>\n",
       "    </tr>\n",
       "    <tr>\n",
       "      <th>7486443</th>\n",
       "      <td>ID_SL3ETR</td>\n",
       "      <td>2019-12-30</td>\n",
       "      <td>0.0985</td>\n",
       "      <td>0.2763</td>\n",
       "      <td>0.0412</td>\n",
       "      <td>0.0758</td>\n",
       "      <td>0.2880</td>\n",
       "      <td>0.2690</td>\n",
       "      <td>0.1533</td>\n",
       "    </tr>\n",
       "    <tr>\n",
       "      <th>7486444</th>\n",
       "      <td>ID_GGQ39P</td>\n",
       "      <td>2019-12-30</td>\n",
       "      <td>0.0826</td>\n",
       "      <td>0.2633</td>\n",
       "      <td>0.0342</td>\n",
       "      <td>0.0656</td>\n",
       "      <td>0.2882</td>\n",
       "      <td>0.2433</td>\n",
       "      <td>0.1391</td>\n",
       "    </tr>\n",
       "    <tr>\n",
       "      <th>7486445</th>\n",
       "      <td>ID_PS0d4J</td>\n",
       "      <td>2019-12-30</td>\n",
       "      <td>0.0595</td>\n",
       "      <td>0.2161</td>\n",
       "      <td>0.0283</td>\n",
       "      <td>0.0493</td>\n",
       "      <td>0.2635</td>\n",
       "      <td>0.1755</td>\n",
       "      <td>0.1045</td>\n",
       "    </tr>\n",
       "    <tr>\n",
       "      <th>7486446</th>\n",
       "      <td>ID_IGMXgo</td>\n",
       "      <td>2019-12-30</td>\n",
       "      <td>0.0860</td>\n",
       "      <td>0.2424</td>\n",
       "      <td>0.0353</td>\n",
       "      <td>0.0662</td>\n",
       "      <td>0.2700</td>\n",
       "      <td>0.2371</td>\n",
       "      <td>0.1402</td>\n",
       "    </tr>\n",
       "  </tbody>\n",
       "</table>\n",
       "<p>7486447 rows × 9 columns</p>\n",
       "</div>"
      ],
      "text/plain": [
       "               PID       date     b01     b02     b03     b04     b05     b06  \\\n",
       "0        ID_I5RGjv 2017-01-01  0.1997  0.2713  0.1469  0.1705  0.3020  0.2922   \n",
       "1        ID_8jWzJ5 2017-01-01  0.2831  0.3459  0.2686  0.2642  0.3604  0.3223   \n",
       "2        ID_d009mj 2017-01-01  0.1619  0.2510  0.0697  0.1162  0.2792  0.2783   \n",
       "3        ID_2ymCjP 2017-01-01  0.1520  0.2482  0.0619  0.1032  0.2814  0.2783   \n",
       "4        ID_YIft2H 2017-01-01  0.1664  0.2496  0.0727  0.1187  0.2980  0.2710   \n",
       "...            ...        ...     ...     ...     ...     ...     ...     ...   \n",
       "7486442  ID_hH2j07 2019-12-30  0.0808  0.2540  0.0312  0.0619  0.2863  0.2501   \n",
       "7486443  ID_SL3ETR 2019-12-30  0.0985  0.2763  0.0412  0.0758  0.2880  0.2690   \n",
       "7486444  ID_GGQ39P 2019-12-30  0.0826  0.2633  0.0342  0.0656  0.2882  0.2433   \n",
       "7486445  ID_PS0d4J 2019-12-30  0.0595  0.2161  0.0283  0.0493  0.2635  0.1755   \n",
       "7486446  ID_IGMXgo 2019-12-30  0.0860  0.2424  0.0353  0.0662  0.2700  0.2371   \n",
       "\n",
       "            b07  \n",
       "0        0.1887  \n",
       "1        0.2089  \n",
       "2        0.1895  \n",
       "3        0.1878  \n",
       "4        0.1924  \n",
       "...         ...  \n",
       "7486442  0.1461  \n",
       "7486443  0.1533  \n",
       "7486444  0.1391  \n",
       "7486445  0.1045  \n",
       "7486446  0.1402  \n",
       "\n",
       "[7486447 rows x 9 columns]"
      ]
     },
     "execution_count": 30,
     "metadata": {},
     "output_type": "execute_result"
    }
   ],
   "source": [
    "modis_1"
   ]
  },
  {
   "cell_type": "code",
   "execution_count": 31,
   "id": "15dce39d-29e7-4997-b661-4f8fcc448d6a",
   "metadata": {},
   "outputs": [],
   "source": [
    "modis_1.to_csv('modis_1_clean.csv', index=False)"
   ]
  },
  {
   "cell_type": "markdown",
   "id": "5526aeb6-3c02-4a7b-a5cc-352971a9cabd",
   "metadata": {},
   "source": [
    "# modis_2"
   ]
  },
  {
   "cell_type": "code",
   "execution_count": 32,
   "id": "c6ca59ad-5662-4c1e-9c27-0f754e56e61d",
   "metadata": {},
   "outputs": [
    {
     "name": "stdout",
     "output_type": "stream",
     "text": [
      "MODIS MOD11A1 Columns:\n",
      " Index(['LST_Day_1km', 'LST_Night_1km', 'date', 'PID'], dtype='object') \n",
      "\n"
     ]
    }
   ],
   "source": [
    "print(\"MODIS MOD11A1 Columns:\\n\", modis_2.columns, \"\\n\")"
   ]
  },
  {
   "cell_type": "code",
   "execution_count": 33,
   "id": "d4c84434-9953-4e40-9262-e5f2abfe386f",
   "metadata": {},
   "outputs": [
    {
     "data": {
      "text/plain": [
       "LST_Day_1km      0\n",
       "LST_Night_1km    0\n",
       "date             0\n",
       "PID              0\n",
       "dtype: int64"
      ]
     },
     "execution_count": 33,
     "metadata": {},
     "output_type": "execute_result"
    }
   ],
   "source": [
    "modis_2.isnull().sum()"
   ]
  },
  {
   "cell_type": "code",
   "execution_count": 35,
   "id": "f0e020f0-c97e-4f16-b401-ad56b93855fd",
   "metadata": {},
   "outputs": [
    {
     "name": "stdout",
     "output_type": "stream",
     "text": [
      "0\n"
     ]
    }
   ],
   "source": [
    "print(modis_2.duplicated().sum())"
   ]
  },
  {
   "cell_type": "code",
   "execution_count": 36,
   "id": "15e546fc-accf-41e9-b421-7b1a0892d25e",
   "metadata": {},
   "outputs": [
    {
     "name": "stdout",
     "output_type": "stream",
     "text": [
      "3872\n"
     ]
    }
   ],
   "source": [
    "print(modis_2.duplicated(subset=['PID', 'date']).sum())"
   ]
  },
  {
   "cell_type": "markdown",
   "id": "bba8f8d0-973b-4259-bb38-e0d58363d8c3",
   "metadata": {},
   "source": [
    "### Multiple sensing per day\n",
    "#### aggregating with median"
   ]
  },
  {
   "cell_type": "code",
   "execution_count": 37,
   "id": "9bcea433-fa0a-447e-b1de-e6ceeabea92b",
   "metadata": {},
   "outputs": [],
   "source": [
    "modis_2 = modis_2.groupby(['PID', 'date']).median().reset_index()"
   ]
  },
  {
   "cell_type": "code",
   "execution_count": 39,
   "id": "737edc2c-645e-4d07-b978-c43b2b22fee9",
   "metadata": {},
   "outputs": [],
   "source": [
    "modis_2.to_csv('modis_2_clean.csv', index=False)"
   ]
  },
  {
   "cell_type": "code",
   "execution_count": 40,
   "id": "e85cb293-8e16-460f-a7fb-dfa21c98afc3",
   "metadata": {},
   "outputs": [
    {
     "data": {
      "text/html": [
       "<div>\n",
       "<style scoped>\n",
       "    .dataframe tbody tr th:only-of-type {\n",
       "        vertical-align: middle;\n",
       "    }\n",
       "\n",
       "    .dataframe tbody tr th {\n",
       "        vertical-align: top;\n",
       "    }\n",
       "\n",
       "    .dataframe thead th {\n",
       "        text-align: right;\n",
       "    }\n",
       "</style>\n",
       "<table border=\"1\" class=\"dataframe\">\n",
       "  <thead>\n",
       "    <tr style=\"text-align: right;\">\n",
       "      <th></th>\n",
       "      <th>PID</th>\n",
       "      <th>date</th>\n",
       "      <th>LST_Day_1km</th>\n",
       "      <th>LST_Night_1km</th>\n",
       "    </tr>\n",
       "  </thead>\n",
       "  <tbody>\n",
       "    <tr>\n",
       "      <th>0</th>\n",
       "      <td>ID_002W8m</td>\n",
       "      <td>2017-01-01</td>\n",
       "      <td>299.12</td>\n",
       "      <td>289.12</td>\n",
       "    </tr>\n",
       "    <tr>\n",
       "      <th>1</th>\n",
       "      <td>ID_002W8m</td>\n",
       "      <td>2017-01-02</td>\n",
       "      <td>301.90</td>\n",
       "      <td>289.66</td>\n",
       "    </tr>\n",
       "    <tr>\n",
       "      <th>2</th>\n",
       "      <td>ID_002W8m</td>\n",
       "      <td>2017-01-08</td>\n",
       "      <td>302.84</td>\n",
       "      <td>288.92</td>\n",
       "    </tr>\n",
       "    <tr>\n",
       "      <th>3</th>\n",
       "      <td>ID_002W8m</td>\n",
       "      <td>2017-01-09</td>\n",
       "      <td>307.30</td>\n",
       "      <td>288.84</td>\n",
       "    </tr>\n",
       "    <tr>\n",
       "      <th>4</th>\n",
       "      <td>ID_002W8m</td>\n",
       "      <td>2017-01-10</td>\n",
       "      <td>304.08</td>\n",
       "      <td>288.94</td>\n",
       "    </tr>\n",
       "    <tr>\n",
       "      <th>...</th>\n",
       "      <td>...</td>\n",
       "      <td>...</td>\n",
       "      <td>...</td>\n",
       "      <td>...</td>\n",
       "    </tr>\n",
       "    <tr>\n",
       "      <th>2461914</th>\n",
       "      <td>ID_zzVFDw</td>\n",
       "      <td>2019-12-25</td>\n",
       "      <td>302.06</td>\n",
       "      <td>284.20</td>\n",
       "    </tr>\n",
       "    <tr>\n",
       "      <th>2461915</th>\n",
       "      <td>ID_zzVFDw</td>\n",
       "      <td>2019-12-26</td>\n",
       "      <td>299.42</td>\n",
       "      <td>284.34</td>\n",
       "    </tr>\n",
       "    <tr>\n",
       "      <th>2461916</th>\n",
       "      <td>ID_zzVFDw</td>\n",
       "      <td>2019-12-27</td>\n",
       "      <td>302.42</td>\n",
       "      <td>286.16</td>\n",
       "    </tr>\n",
       "    <tr>\n",
       "      <th>2461917</th>\n",
       "      <td>ID_zzVFDw</td>\n",
       "      <td>2019-12-28</td>\n",
       "      <td>303.08</td>\n",
       "      <td>286.34</td>\n",
       "    </tr>\n",
       "    <tr>\n",
       "      <th>2461918</th>\n",
       "      <td>ID_zzVFDw</td>\n",
       "      <td>2019-12-29</td>\n",
       "      <td>301.46</td>\n",
       "      <td>287.78</td>\n",
       "    </tr>\n",
       "  </tbody>\n",
       "</table>\n",
       "<p>2461919 rows × 4 columns</p>\n",
       "</div>"
      ],
      "text/plain": [
       "               PID       date  LST_Day_1km  LST_Night_1km\n",
       "0        ID_002W8m 2017-01-01       299.12         289.12\n",
       "1        ID_002W8m 2017-01-02       301.90         289.66\n",
       "2        ID_002W8m 2017-01-08       302.84         288.92\n",
       "3        ID_002W8m 2017-01-09       307.30         288.84\n",
       "4        ID_002W8m 2017-01-10       304.08         288.94\n",
       "...            ...        ...          ...            ...\n",
       "2461914  ID_zzVFDw 2019-12-25       302.06         284.20\n",
       "2461915  ID_zzVFDw 2019-12-26       299.42         284.34\n",
       "2461916  ID_zzVFDw 2019-12-27       302.42         286.16\n",
       "2461917  ID_zzVFDw 2019-12-28       303.08         286.34\n",
       "2461918  ID_zzVFDw 2019-12-29       301.46         287.78\n",
       "\n",
       "[2461919 rows x 4 columns]"
      ]
     },
     "execution_count": 40,
     "metadata": {},
     "output_type": "execute_result"
    }
   ],
   "source": [
    "modis_2"
   ]
  },
  {
   "cell_type": "markdown",
   "id": "0b4b41cd-2974-4c52-9707-a876002ec7c9",
   "metadata": {},
   "source": [
    "# modis_3"
   ]
  },
  {
   "cell_type": "code",
   "execution_count": 41,
   "id": "58ca2fec-5c7f-4752-941a-3a9e9ff5943b",
   "metadata": {},
   "outputs": [
    {
     "name": "stdout",
     "output_type": "stream",
     "text": [
      "MODIS MOD16A2 Columns:\n",
      " Index(['ET', 'PET', 'date', 'PID'], dtype='object') \n",
      "\n"
     ]
    }
   ],
   "source": [
    "print(\"MODIS MOD16A2 Columns:\\n\", modis_3.columns, \"\\n\")"
   ]
  },
  {
   "cell_type": "code",
   "execution_count": 43,
   "id": "07f025d7-d433-4b16-9c9d-2833f3b4db5c",
   "metadata": {},
   "outputs": [
    {
     "data": {
      "text/plain": [
       "ET      0\n",
       "PET     0\n",
       "date    0\n",
       "PID     0\n",
       "dtype: int64"
      ]
     },
     "execution_count": 43,
     "metadata": {},
     "output_type": "execute_result"
    }
   ],
   "source": [
    "modis_3.isnull().sum()"
   ]
  },
  {
   "cell_type": "code",
   "execution_count": 44,
   "id": "5534a47d-2fee-4d9e-ab8e-50df249a10ab",
   "metadata": {},
   "outputs": [
    {
     "name": "stdout",
     "output_type": "stream",
     "text": [
      "0\n"
     ]
    }
   ],
   "source": [
    "print(modis_3.duplicated().sum())"
   ]
  },
  {
   "cell_type": "code",
   "execution_count": 45,
   "id": "38a3fad8-b43b-47f7-8397-9ae214860a75",
   "metadata": {},
   "outputs": [
    {
     "name": "stdout",
     "output_type": "stream",
     "text": [
      "0\n"
     ]
    }
   ],
   "source": [
    "print(modis_3.duplicated(subset=['PID', 'date']).sum())"
   ]
  },
  {
   "cell_type": "code",
   "execution_count": 47,
   "id": "373b9030-c29e-4314-90e8-23e01b85ee39",
   "metadata": {},
   "outputs": [],
   "source": [
    "modis_3=modis_3[['PID','date','ET','PET']]"
   ]
  },
  {
   "cell_type": "code",
   "execution_count": 49,
   "id": "f7a4ecdc-a757-4ef8-b91e-da445bad49ab",
   "metadata": {},
   "outputs": [],
   "source": [
    "modis_3.to_csv('modis_3_clean.csv', index=False)"
   ]
  },
  {
   "cell_type": "code",
   "execution_count": 48,
   "id": "666a8788-e299-40ab-8f96-b7cf488b80e7",
   "metadata": {},
   "outputs": [
    {
     "data": {
      "text/html": [
       "<div>\n",
       "<style scoped>\n",
       "    .dataframe tbody tr th:only-of-type {\n",
       "        vertical-align: middle;\n",
       "    }\n",
       "\n",
       "    .dataframe tbody tr th {\n",
       "        vertical-align: top;\n",
       "    }\n",
       "\n",
       "    .dataframe thead th {\n",
       "        text-align: right;\n",
       "    }\n",
       "</style>\n",
       "<table border=\"1\" class=\"dataframe\">\n",
       "  <thead>\n",
       "    <tr style=\"text-align: right;\">\n",
       "      <th></th>\n",
       "      <th>PID</th>\n",
       "      <th>date</th>\n",
       "      <th>ET</th>\n",
       "      <th>PET</th>\n",
       "    </tr>\n",
       "  </thead>\n",
       "  <tbody>\n",
       "    <tr>\n",
       "      <th>0</th>\n",
       "      <td>ID_UgzkN8</td>\n",
       "      <td>2017-01-01</td>\n",
       "      <td>0.9</td>\n",
       "      <td>59.9</td>\n",
       "    </tr>\n",
       "    <tr>\n",
       "      <th>1</th>\n",
       "      <td>ID_d009mj</td>\n",
       "      <td>2017-01-01</td>\n",
       "      <td>0.9</td>\n",
       "      <td>60.4</td>\n",
       "    </tr>\n",
       "    <tr>\n",
       "      <th>2</th>\n",
       "      <td>ID_2ymCjP</td>\n",
       "      <td>2017-01-01</td>\n",
       "      <td>1.3</td>\n",
       "      <td>59.6</td>\n",
       "    </tr>\n",
       "    <tr>\n",
       "      <th>3</th>\n",
       "      <td>ID_YIft2H</td>\n",
       "      <td>2017-01-01</td>\n",
       "      <td>0.9</td>\n",
       "      <td>59.4</td>\n",
       "    </tr>\n",
       "    <tr>\n",
       "      <th>4</th>\n",
       "      <td>ID_ZaKEFI</td>\n",
       "      <td>2017-01-01</td>\n",
       "      <td>1.0</td>\n",
       "      <td>58.9</td>\n",
       "    </tr>\n",
       "    <tr>\n",
       "      <th>...</th>\n",
       "      <td>...</td>\n",
       "      <td>...</td>\n",
       "      <td>...</td>\n",
       "      <td>...</td>\n",
       "    </tr>\n",
       "    <tr>\n",
       "      <th>935358</th>\n",
       "      <td>ID_hH2j07</td>\n",
       "      <td>2019-12-27</td>\n",
       "      <td>7.1</td>\n",
       "      <td>29.4</td>\n",
       "    </tr>\n",
       "    <tr>\n",
       "      <th>935359</th>\n",
       "      <td>ID_SL3ETR</td>\n",
       "      <td>2019-12-27</td>\n",
       "      <td>6.4</td>\n",
       "      <td>29.2</td>\n",
       "    </tr>\n",
       "    <tr>\n",
       "      <th>935360</th>\n",
       "      <td>ID_GGQ39P</td>\n",
       "      <td>2019-12-27</td>\n",
       "      <td>6.4</td>\n",
       "      <td>29.5</td>\n",
       "    </tr>\n",
       "    <tr>\n",
       "      <th>935361</th>\n",
       "      <td>ID_PS0d4J</td>\n",
       "      <td>2019-12-27</td>\n",
       "      <td>6.8</td>\n",
       "      <td>29.5</td>\n",
       "    </tr>\n",
       "    <tr>\n",
       "      <th>935362</th>\n",
       "      <td>ID_IGMXgo</td>\n",
       "      <td>2019-12-27</td>\n",
       "      <td>6.0</td>\n",
       "      <td>29.5</td>\n",
       "    </tr>\n",
       "  </tbody>\n",
       "</table>\n",
       "<p>935363 rows × 4 columns</p>\n",
       "</div>"
      ],
      "text/plain": [
       "              PID       date   ET   PET\n",
       "0       ID_UgzkN8 2017-01-01  0.9  59.9\n",
       "1       ID_d009mj 2017-01-01  0.9  60.4\n",
       "2       ID_2ymCjP 2017-01-01  1.3  59.6\n",
       "3       ID_YIft2H 2017-01-01  0.9  59.4\n",
       "4       ID_ZaKEFI 2017-01-01  1.0  58.9\n",
       "...           ...        ...  ...   ...\n",
       "935358  ID_hH2j07 2019-12-27  7.1  29.4\n",
       "935359  ID_SL3ETR 2019-12-27  6.4  29.2\n",
       "935360  ID_GGQ39P 2019-12-27  6.4  29.5\n",
       "935361  ID_PS0d4J 2019-12-27  6.8  29.5\n",
       "935362  ID_IGMXgo 2019-12-27  6.0  29.5\n",
       "\n",
       "[935363 rows x 4 columns]"
      ]
     },
     "execution_count": 48,
     "metadata": {},
     "output_type": "execute_result"
    }
   ],
   "source": [
    "modis_3"
   ]
  },
  {
   "cell_type": "markdown",
   "id": "408edac3-1acc-4c06-a766-a04112c6a7b2",
   "metadata": {},
   "source": [
    "# modis_4"
   ]
  },
  {
   "cell_type": "code",
   "execution_count": 50,
   "id": "9b62b0eb-1fe5-4466-ab54-d79859d2a99a",
   "metadata": {},
   "outputs": [
    {
     "name": "stdout",
     "output_type": "stream",
     "text": [
      "MODIS MOD13Q1 Columns:\n",
      " Index(['EVI', 'NDVI', 'RelativeAzimuth', 'SolarZenith', 'ViewZenith', 'date',\n",
      "       'sur_refl_b01', 'sur_refl_b02', 'sur_refl_b03', 'sur_refl_b07', 'PID'],\n",
      "      dtype='object') \n",
      "\n"
     ]
    }
   ],
   "source": [
    "print(\"MODIS MOD13Q1 Columns:\\n\", modis_4.columns, \"\\n\")"
   ]
  },
  {
   "cell_type": "code",
   "execution_count": 55,
   "id": "d11a9abd-68b3-4b00-b393-1f643d948444",
   "metadata": {},
   "outputs": [
    {
     "data": {
      "text/plain": [
       "EVI                0\n",
       "NDVI               0\n",
       "RelativeAzimuth    0\n",
       "SolarZenith        0\n",
       "ViewZenith         0\n",
       "date               0\n",
       "sur_refl_b01       0\n",
       "sur_refl_b02       0\n",
       "sur_refl_b03       0\n",
       "sur_refl_b07       0\n",
       "PID                0\n",
       "dtype: int64"
      ]
     },
     "execution_count": 55,
     "metadata": {},
     "output_type": "execute_result"
    }
   ],
   "source": [
    "modis_4.isnull().sum()"
   ]
  },
  {
   "cell_type": "code",
   "execution_count": 56,
   "id": "5e48b9d8-7b25-4a75-ae41-c22ceb8e81bf",
   "metadata": {},
   "outputs": [
    {
     "data": {
      "text/plain": [
       "count    545563.000000\n",
       "mean          0.070720\n",
       "std           1.017931\n",
       "min          -1.800000\n",
       "25%          -0.482300\n",
       "50%           0.080700\n",
       "75%           0.987700\n",
       "max           1.799900\n",
       "Name: RelativeAzimuth, dtype: float64"
      ]
     },
     "execution_count": 56,
     "metadata": {},
     "output_type": "execute_result"
    }
   ],
   "source": [
    "modis_4['RelativeAzimuth'].describe()"
   ]
  },
  {
   "cell_type": "code",
   "execution_count": 58,
   "id": "37724ffe-8f64-40ca-b828-e7a5007c98c4",
   "metadata": {},
   "outputs": [
    {
     "data": {
      "text/plain": [
       "count    545563.000000\n",
       "mean          0.273643\n",
       "std           0.068684\n",
       "min           0.109700\n",
       "25%           0.219700\n",
       "50%           0.259300\n",
       "75%           0.333400\n",
       "max           0.447200\n",
       "Name: SolarZenith, dtype: float64"
      ]
     },
     "execution_count": 58,
     "metadata": {},
     "output_type": "execute_result"
    }
   ],
   "source": [
    "modis_4['SolarZenith'].describe()"
   ]
  },
  {
   "cell_type": "code",
   "execution_count": 59,
   "id": "82dfb141-efce-413c-b1a3-2a86939da232",
   "metadata": {},
   "outputs": [
    {
     "data": {
      "text/plain": [
       "count    545563.000000\n",
       "mean          0.195599\n",
       "std           0.148687\n",
       "min           0.000200\n",
       "25%           0.075100\n",
       "50%           0.148000\n",
       "75%           0.290300\n",
       "max           0.649000\n",
       "Name: ViewZenith, dtype: float64"
      ]
     },
     "execution_count": 59,
     "metadata": {},
     "output_type": "execute_result"
    }
   ],
   "source": [
    "modis_4['ViewZenith'].describe()"
   ]
  },
  {
   "cell_type": "code",
   "execution_count": 61,
   "id": "dcd3262e-4096-4184-859d-d1b24994a12b",
   "metadata": {},
   "outputs": [],
   "source": [
    "modis_4.drop(columns=['RelativeAzimuth','SolarZenith','ViewZenith'],inplace=True)"
   ]
  },
  {
   "cell_type": "code",
   "execution_count": 66,
   "id": "0e294185-acd6-4186-9b89-06d419722917",
   "metadata": {},
   "outputs": [],
   "source": [
    "modis_4.rename(columns={'sur_refl_b01': 'b01',\n",
    "                        'sur_refl_b02': 'b02',\n",
    "                       'sur_refl_b03': 'b03',\n",
    "                        'sur_refl_b07': 'b07'}, inplace=True)\n"
   ]
  },
  {
   "cell_type": "code",
   "execution_count": 69,
   "id": "c1ed00f3-7d11-435c-ae8c-7f3ebd6d328b",
   "metadata": {},
   "outputs": [],
   "source": [
    "modis_4=modis_4[['PID','date','b01','b02','b03','b07','EVI','NDVI']]"
   ]
  },
  {
   "cell_type": "code",
   "execution_count": 71,
   "id": "c5400955-ab48-4d1c-9a04-77e7a1baa100",
   "metadata": {},
   "outputs": [
    {
     "name": "stdout",
     "output_type": "stream",
     "text": [
      "0\n"
     ]
    }
   ],
   "source": [
    "print(modis_4.duplicated().sum())"
   ]
  },
  {
   "cell_type": "code",
   "execution_count": 72,
   "id": "e0a2bbdd-3d59-49cc-8c18-27b933ff6a69",
   "metadata": {},
   "outputs": [
    {
     "name": "stdout",
     "output_type": "stream",
     "text": [
      "0\n"
     ]
    }
   ],
   "source": [
    "print(modis_4.duplicated(subset=['PID', 'date']).sum())"
   ]
  },
  {
   "cell_type": "code",
   "execution_count": 73,
   "id": "4cf58f0c-43db-4a71-be36-924946fec807",
   "metadata": {},
   "outputs": [
    {
     "data": {
      "text/html": [
       "<div>\n",
       "<style scoped>\n",
       "    .dataframe tbody tr th:only-of-type {\n",
       "        vertical-align: middle;\n",
       "    }\n",
       "\n",
       "    .dataframe tbody tr th {\n",
       "        vertical-align: top;\n",
       "    }\n",
       "\n",
       "    .dataframe thead th {\n",
       "        text-align: right;\n",
       "    }\n",
       "</style>\n",
       "<table border=\"1\" class=\"dataframe\">\n",
       "  <thead>\n",
       "    <tr style=\"text-align: right;\">\n",
       "      <th></th>\n",
       "      <th>PID</th>\n",
       "      <th>date</th>\n",
       "      <th>b01</th>\n",
       "      <th>b02</th>\n",
       "      <th>b03</th>\n",
       "      <th>b07</th>\n",
       "      <th>EVI</th>\n",
       "      <th>NDVI</th>\n",
       "    </tr>\n",
       "  </thead>\n",
       "  <tbody>\n",
       "    <tr>\n",
       "      <th>0</th>\n",
       "      <td>ID_I5RGjv</td>\n",
       "      <td>2017-01-01</td>\n",
       "      <td>0.2120</td>\n",
       "      <td>0.3041</td>\n",
       "      <td>0.0909</td>\n",
       "      <td>0.2675</td>\n",
       "      <td>0.1211</td>\n",
       "      <td>0.1779</td>\n",
       "    </tr>\n",
       "    <tr>\n",
       "      <th>1</th>\n",
       "      <td>ID_8jWzJ5</td>\n",
       "      <td>2017-01-01</td>\n",
       "      <td>0.1969</td>\n",
       "      <td>0.2905</td>\n",
       "      <td>0.0807</td>\n",
       "      <td>0.2514</td>\n",
       "      <td>0.1242</td>\n",
       "      <td>0.1897</td>\n",
       "    </tr>\n",
       "    <tr>\n",
       "      <th>2</th>\n",
       "      <td>ID_d009mj</td>\n",
       "      <td>2017-01-01</td>\n",
       "      <td>0.1562</td>\n",
       "      <td>0.2421</td>\n",
       "      <td>0.0738</td>\n",
       "      <td>0.2404</td>\n",
       "      <td>0.1329</td>\n",
       "      <td>0.2175</td>\n",
       "    </tr>\n",
       "    <tr>\n",
       "      <th>3</th>\n",
       "      <td>ID_2ymCjP</td>\n",
       "      <td>2017-01-01</td>\n",
       "      <td>0.1701</td>\n",
       "      <td>0.2635</td>\n",
       "      <td>0.0730</td>\n",
       "      <td>0.2624</td>\n",
       "      <td>0.1343</td>\n",
       "      <td>0.2155</td>\n",
       "    </tr>\n",
       "    <tr>\n",
       "      <th>4</th>\n",
       "      <td>ID_YIft2H</td>\n",
       "      <td>2017-01-01</td>\n",
       "      <td>0.2059</td>\n",
       "      <td>0.2843</td>\n",
       "      <td>0.0846</td>\n",
       "      <td>0.2816</td>\n",
       "      <td>0.1039</td>\n",
       "      <td>0.1600</td>\n",
       "    </tr>\n",
       "    <tr>\n",
       "      <th>...</th>\n",
       "      <td>...</td>\n",
       "      <td>...</td>\n",
       "      <td>...</td>\n",
       "      <td>...</td>\n",
       "      <td>...</td>\n",
       "      <td>...</td>\n",
       "      <td>...</td>\n",
       "      <td>...</td>\n",
       "    </tr>\n",
       "    <tr>\n",
       "      <th>545558</th>\n",
       "      <td>ID_hH2j07</td>\n",
       "      <td>2019-12-19</td>\n",
       "      <td>0.0845</td>\n",
       "      <td>0.2980</td>\n",
       "      <td>0.0379</td>\n",
       "      <td>0.1473</td>\n",
       "      <td>0.3510</td>\n",
       "      <td>0.5584</td>\n",
       "    </tr>\n",
       "    <tr>\n",
       "      <th>545559</th>\n",
       "      <td>ID_SL3ETR</td>\n",
       "      <td>2019-12-19</td>\n",
       "      <td>0.1138</td>\n",
       "      <td>0.3200</td>\n",
       "      <td>0.0420</td>\n",
       "      <td>0.1666</td>\n",
       "      <td>0.3055</td>\n",
       "      <td>0.4755</td>\n",
       "    </tr>\n",
       "    <tr>\n",
       "      <th>545560</th>\n",
       "      <td>ID_GGQ39P</td>\n",
       "      <td>2019-12-19</td>\n",
       "      <td>0.0961</td>\n",
       "      <td>0.3154</td>\n",
       "      <td>0.0363</td>\n",
       "      <td>0.1525</td>\n",
       "      <td>0.3385</td>\n",
       "      <td>0.5330</td>\n",
       "    </tr>\n",
       "    <tr>\n",
       "      <th>545561</th>\n",
       "      <td>ID_PS0d4J</td>\n",
       "      <td>2019-12-19</td>\n",
       "      <td>0.0641</td>\n",
       "      <td>0.2692</td>\n",
       "      <td>0.0304</td>\n",
       "      <td>0.1210</td>\n",
       "      <td>0.3596</td>\n",
       "      <td>0.6151</td>\n",
       "    </tr>\n",
       "    <tr>\n",
       "      <th>545562</th>\n",
       "      <td>ID_IGMXgo</td>\n",
       "      <td>2019-12-19</td>\n",
       "      <td>0.1018</td>\n",
       "      <td>0.3184</td>\n",
       "      <td>0.0392</td>\n",
       "      <td>0.1561</td>\n",
       "      <td>0.3329</td>\n",
       "      <td>0.5174</td>\n",
       "    </tr>\n",
       "  </tbody>\n",
       "</table>\n",
       "<p>545563 rows × 8 columns</p>\n",
       "</div>"
      ],
      "text/plain": [
       "              PID       date     b01     b02     b03     b07     EVI    NDVI\n",
       "0       ID_I5RGjv 2017-01-01  0.2120  0.3041  0.0909  0.2675  0.1211  0.1779\n",
       "1       ID_8jWzJ5 2017-01-01  0.1969  0.2905  0.0807  0.2514  0.1242  0.1897\n",
       "2       ID_d009mj 2017-01-01  0.1562  0.2421  0.0738  0.2404  0.1329  0.2175\n",
       "3       ID_2ymCjP 2017-01-01  0.1701  0.2635  0.0730  0.2624  0.1343  0.2155\n",
       "4       ID_YIft2H 2017-01-01  0.2059  0.2843  0.0846  0.2816  0.1039  0.1600\n",
       "...           ...        ...     ...     ...     ...     ...     ...     ...\n",
       "545558  ID_hH2j07 2019-12-19  0.0845  0.2980  0.0379  0.1473  0.3510  0.5584\n",
       "545559  ID_SL3ETR 2019-12-19  0.1138  0.3200  0.0420  0.1666  0.3055  0.4755\n",
       "545560  ID_GGQ39P 2019-12-19  0.0961  0.3154  0.0363  0.1525  0.3385  0.5330\n",
       "545561  ID_PS0d4J 2019-12-19  0.0641  0.2692  0.0304  0.1210  0.3596  0.6151\n",
       "545562  ID_IGMXgo 2019-12-19  0.1018  0.3184  0.0392  0.1561  0.3329  0.5174\n",
       "\n",
       "[545563 rows x 8 columns]"
      ]
     },
     "execution_count": 73,
     "metadata": {},
     "output_type": "execute_result"
    }
   ],
   "source": [
    "modis_4"
   ]
  },
  {
   "cell_type": "code",
   "execution_count": 74,
   "id": "41d47ab1-c2a5-43ec-94cb-2f9b12961bde",
   "metadata": {},
   "outputs": [],
   "source": [
    "modis_4.to_csv('modis_4_clean.csv', index=False)"
   ]
  },
  {
   "cell_type": "markdown",
   "id": "4dc92245-a2b7-4d72-aa1f-89ff705a5d61",
   "metadata": {},
   "source": [
    "# modis_5"
   ]
  },
  {
   "cell_type": "code",
   "execution_count": 75,
   "id": "84cde0c6-1b47-4959-b281-94839ac17810",
   "metadata": {},
   "outputs": [
    {
     "name": "stdout",
     "output_type": "stream",
     "text": [
      "MODIS MCD43A4 Columns:\n",
      " Index(['Nadir_Reflectance_Band1', 'Nadir_Reflectance_Band2',\n",
      "       'Nadir_Reflectance_Band3', 'Nadir_Reflectance_Band4', 'date', 'PID'],\n",
      "      dtype='object') \n",
      "\n"
     ]
    }
   ],
   "source": [
    "print(\"MODIS MCD43A4 Columns:\\n\", modis_5.columns, \"\\n\")"
   ]
  },
  {
   "cell_type": "code",
   "execution_count": 76,
   "id": "999bd8dd-a78e-4fdb-bffc-8df45bb85f5f",
   "metadata": {},
   "outputs": [
    {
     "data": {
      "text/plain": [
       "Nadir_Reflectance_Band1    0\n",
       "Nadir_Reflectance_Band2    0\n",
       "Nadir_Reflectance_Band3    0\n",
       "Nadir_Reflectance_Band4    0\n",
       "date                       0\n",
       "PID                        0\n",
       "dtype: int64"
      ]
     },
     "execution_count": 76,
     "metadata": {},
     "output_type": "execute_result"
    }
   ],
   "source": [
    "modis_5.isnull().sum()"
   ]
  },
  {
   "cell_type": "code",
   "execution_count": 77,
   "id": "cbc3b465-dadc-4378-990c-9bbfe6778ed8",
   "metadata": {},
   "outputs": [],
   "source": [
    "modis_5.rename(columns={'Nadir_Reflectance_Band1': 'b01',\n",
    "                        'Nadir_Reflectance_Band2': 'b02',\n",
    "                       'Nadir_Reflectance_Band3': 'b03',\n",
    "                        'Nadir_Reflectance_Band4': 'b04'}, inplace=True)"
   ]
  },
  {
   "cell_type": "code",
   "execution_count": 80,
   "id": "e6b39299-0c21-43d0-bf30-8705c36aad97",
   "metadata": {},
   "outputs": [
    {
     "name": "stdout",
     "output_type": "stream",
     "text": [
      "2\n"
     ]
    }
   ],
   "source": [
    "print(modis_5.duplicated().sum())"
   ]
  },
  {
   "cell_type": "code",
   "execution_count": 82,
   "id": "025722bd-3933-4bfb-9e98-25490ed2d4cc",
   "metadata": {},
   "outputs": [],
   "source": [
    "modis_5.drop_duplicates(keep='first', inplace=True)"
   ]
  },
  {
   "cell_type": "code",
   "execution_count": 81,
   "id": "d7997f12-d724-491a-b1c9-534aa35e6ca5",
   "metadata": {},
   "outputs": [
    {
     "name": "stdout",
     "output_type": "stream",
     "text": [
      "7908\n"
     ]
    }
   ],
   "source": [
    "print(modis_5.duplicated(subset=['PID', 'date']).sum())"
   ]
  },
  {
   "cell_type": "code",
   "execution_count": 83,
   "id": "a7c0f3f8-377c-4102-8685-b4b8c28996c4",
   "metadata": {},
   "outputs": [],
   "source": [
    "modis_5= modis_5.groupby(['PID', 'date']).median().reset_index()"
   ]
  },
  {
   "cell_type": "code",
   "execution_count": 86,
   "id": "dc004c55-61cd-4337-9967-dd4719af16f5",
   "metadata": {},
   "outputs": [],
   "source": [
    "modis_5.to_csv('modis_5_clean.csv', index=False)"
   ]
  },
  {
   "cell_type": "code",
   "execution_count": 87,
   "id": "a52ab3ab-9bd0-4a40-b1f7-5baf833e554d",
   "metadata": {},
   "outputs": [
    {
     "data": {
      "text/html": [
       "<div>\n",
       "<style scoped>\n",
       "    .dataframe tbody tr th:only-of-type {\n",
       "        vertical-align: middle;\n",
       "    }\n",
       "\n",
       "    .dataframe tbody tr th {\n",
       "        vertical-align: top;\n",
       "    }\n",
       "\n",
       "    .dataframe thead th {\n",
       "        text-align: right;\n",
       "    }\n",
       "</style>\n",
       "<table border=\"1\" class=\"dataframe\">\n",
       "  <thead>\n",
       "    <tr style=\"text-align: right;\">\n",
       "      <th></th>\n",
       "      <th>PID</th>\n",
       "      <th>date</th>\n",
       "      <th>b01</th>\n",
       "      <th>b02</th>\n",
       "      <th>b03</th>\n",
       "      <th>b04</th>\n",
       "    </tr>\n",
       "  </thead>\n",
       "  <tbody>\n",
       "    <tr>\n",
       "      <th>0</th>\n",
       "      <td>ID_002W8m</td>\n",
       "      <td>2017-01-01</td>\n",
       "      <td>0.0742</td>\n",
       "      <td>0.2430</td>\n",
       "      <td>0.0273</td>\n",
       "      <td>0.0590</td>\n",
       "    </tr>\n",
       "    <tr>\n",
       "      <th>1</th>\n",
       "      <td>ID_002W8m</td>\n",
       "      <td>2017-01-02</td>\n",
       "      <td>0.0762</td>\n",
       "      <td>0.2427</td>\n",
       "      <td>0.0275</td>\n",
       "      <td>0.0596</td>\n",
       "    </tr>\n",
       "    <tr>\n",
       "      <th>2</th>\n",
       "      <td>ID_002W8m</td>\n",
       "      <td>2017-01-03</td>\n",
       "      <td>0.0756</td>\n",
       "      <td>0.2430</td>\n",
       "      <td>0.0278</td>\n",
       "      <td>0.0593</td>\n",
       "    </tr>\n",
       "    <tr>\n",
       "      <th>3</th>\n",
       "      <td>ID_002W8m</td>\n",
       "      <td>2017-01-04</td>\n",
       "      <td>0.0758</td>\n",
       "      <td>0.2431</td>\n",
       "      <td>0.0280</td>\n",
       "      <td>0.0594</td>\n",
       "    </tr>\n",
       "    <tr>\n",
       "      <th>4</th>\n",
       "      <td>ID_002W8m</td>\n",
       "      <td>2017-01-05</td>\n",
       "      <td>0.0770</td>\n",
       "      <td>0.2421</td>\n",
       "      <td>0.0283</td>\n",
       "      <td>0.0600</td>\n",
       "    </tr>\n",
       "    <tr>\n",
       "      <th>...</th>\n",
       "      <td>...</td>\n",
       "      <td>...</td>\n",
       "      <td>...</td>\n",
       "      <td>...</td>\n",
       "      <td>...</td>\n",
       "      <td>...</td>\n",
       "    </tr>\n",
       "    <tr>\n",
       "      <th>7759468</th>\n",
       "      <td>ID_zzVFDw</td>\n",
       "      <td>2019-12-26</td>\n",
       "      <td>0.0727</td>\n",
       "      <td>0.2945</td>\n",
       "      <td>0.0367</td>\n",
       "      <td>0.0705</td>\n",
       "    </tr>\n",
       "    <tr>\n",
       "      <th>7759469</th>\n",
       "      <td>ID_zzVFDw</td>\n",
       "      <td>2019-12-27</td>\n",
       "      <td>0.0741</td>\n",
       "      <td>0.2888</td>\n",
       "      <td>0.0375</td>\n",
       "      <td>0.0710</td>\n",
       "    </tr>\n",
       "    <tr>\n",
       "      <th>7759470</th>\n",
       "      <td>ID_zzVFDw</td>\n",
       "      <td>2019-12-28</td>\n",
       "      <td>0.0743</td>\n",
       "      <td>0.2895</td>\n",
       "      <td>0.0376</td>\n",
       "      <td>0.0713</td>\n",
       "    </tr>\n",
       "    <tr>\n",
       "      <th>7759471</th>\n",
       "      <td>ID_zzVFDw</td>\n",
       "      <td>2019-12-29</td>\n",
       "      <td>0.0754</td>\n",
       "      <td>0.2882</td>\n",
       "      <td>0.0376</td>\n",
       "      <td>0.0722</td>\n",
       "    </tr>\n",
       "    <tr>\n",
       "      <th>7759472</th>\n",
       "      <td>ID_zzVFDw</td>\n",
       "      <td>2019-12-30</td>\n",
       "      <td>0.0754</td>\n",
       "      <td>0.2867</td>\n",
       "      <td>0.0385</td>\n",
       "      <td>0.0725</td>\n",
       "    </tr>\n",
       "  </tbody>\n",
       "</table>\n",
       "<p>7759473 rows × 6 columns</p>\n",
       "</div>"
      ],
      "text/plain": [
       "               PID       date     b01     b02     b03     b04\n",
       "0        ID_002W8m 2017-01-01  0.0742  0.2430  0.0273  0.0590\n",
       "1        ID_002W8m 2017-01-02  0.0762  0.2427  0.0275  0.0596\n",
       "2        ID_002W8m 2017-01-03  0.0756  0.2430  0.0278  0.0593\n",
       "3        ID_002W8m 2017-01-04  0.0758  0.2431  0.0280  0.0594\n",
       "4        ID_002W8m 2017-01-05  0.0770  0.2421  0.0283  0.0600\n",
       "...            ...        ...     ...     ...     ...     ...\n",
       "7759468  ID_zzVFDw 2019-12-26  0.0727  0.2945  0.0367  0.0705\n",
       "7759469  ID_zzVFDw 2019-12-27  0.0741  0.2888  0.0375  0.0710\n",
       "7759470  ID_zzVFDw 2019-12-28  0.0743  0.2895  0.0376  0.0713\n",
       "7759471  ID_zzVFDw 2019-12-29  0.0754  0.2882  0.0376  0.0722\n",
       "7759472  ID_zzVFDw 2019-12-30  0.0754  0.2867  0.0385  0.0725\n",
       "\n",
       "[7759473 rows x 6 columns]"
      ]
     },
     "execution_count": 87,
     "metadata": {},
     "output_type": "execute_result"
    }
   ],
   "source": [
    "modis_5"
   ]
  },
  {
   "cell_type": "markdown",
   "id": "f97a84be-f3c1-44b3-ab00-4d5c33015d4d",
   "metadata": {},
   "source": [
    "# sentinel_1"
   ]
  },
  {
   "cell_type": "code",
   "execution_count": 135,
   "id": "ee2bb4e3-1bce-4861-831c-39c5c288f225",
   "metadata": {},
   "outputs": [
    {
     "name": "stdout",
     "output_type": "stream",
     "text": [
      "Sentinel-1 Columns:\n",
      " Index(['VH', 'VV', 'date', 'instrumentMode', 'orbitProperties_pass',\n",
      "       'relativeOrbitNumber_start', 'PID'],\n",
      "      dtype='object') \n",
      "\n"
     ]
    }
   ],
   "source": [
    "print(\"Sentinel-1 Columns:\\n\", sentinel_1.columns, \"\\n\")"
   ]
  },
  {
   "cell_type": "code",
   "execution_count": 136,
   "id": "31c48a6b-ef2e-4c60-b6b6-788fe3aa3795",
   "metadata": {},
   "outputs": [
    {
     "data": {
      "text/plain": [
       "VH                           0\n",
       "VV                           0\n",
       "date                         0\n",
       "instrumentMode               0\n",
       "orbitProperties_pass         0\n",
       "relativeOrbitNumber_start    0\n",
       "PID                          0\n",
       "dtype: int64"
      ]
     },
     "execution_count": 136,
     "metadata": {},
     "output_type": "execute_result"
    }
   ],
   "source": [
    "sentinel_1.isnull().sum()"
   ]
  },
  {
   "cell_type": "code",
   "execution_count": 137,
   "id": "0a028ff4-c763-416e-9469-31bd88068d54",
   "metadata": {},
   "outputs": [],
   "source": [
    "sentinel_1.drop(columns=['instrumentMode'],inplace=True)"
   ]
  },
  {
   "cell_type": "code",
   "execution_count": 138,
   "id": "07cb417e-53f3-43eb-8f9c-768016e97c47",
   "metadata": {},
   "outputs": [
    {
     "data": {
      "text/plain": [
       "count    2.175275e+06\n",
       "mean     1.100202e+02\n",
       "std      4.364981e+01\n",
       "min      6.000000e+00\n",
       "25%      7.900000e+01\n",
       "50%      7.900000e+01\n",
       "75%      1.520000e+02\n",
       "max      1.600000e+02\n",
       "Name: relativeOrbitNumber_start, dtype: float64"
      ]
     },
     "execution_count": 138,
     "metadata": {},
     "output_type": "execute_result"
    }
   ],
   "source": [
    "sentinel_1['relativeOrbitNumber_start'].describe()"
   ]
  },
  {
   "cell_type": "code",
   "execution_count": 139,
   "id": "bfd7ca83-ef26-440f-8aca-46bf65937e6d",
   "metadata": {},
   "outputs": [],
   "source": [
    "mapping = {'ASCENDING': 1, 'DESCENDING': 0}\n",
    "sentinel_1['orbitProperties_pass_encoded'] = sentinel_1['orbitProperties_pass'].map(mapping)"
   ]
  },
  {
   "cell_type": "code",
   "execution_count": 140,
   "id": "9125838b-fb88-47e6-9a43-feb9afbcf3d1",
   "metadata": {},
   "outputs": [],
   "source": [
    "sentinel_1.drop(columns=['orbitProperties_pass'],inplace=True)"
   ]
  },
  {
   "cell_type": "code",
   "execution_count": 141,
   "id": "ad3d598a-2f08-4f82-a427-a6048e7dac44",
   "metadata": {},
   "outputs": [],
   "source": [
    "sentinel_1=sentinel_1[['PID','date','VH','VV','relativeOrbitNumber_start','orbitProperties_pass_encoded']]"
   ]
  },
  {
   "cell_type": "code",
   "execution_count": 142,
   "id": "4945b14e-4a99-4e7d-b7c2-2b76820b4bc5",
   "metadata": {},
   "outputs": [
    {
     "name": "stdout",
     "output_type": "stream",
     "text": [
      "0\n"
     ]
    }
   ],
   "source": [
    "print(sentinel_1.duplicated().sum())"
   ]
  },
  {
   "cell_type": "code",
   "execution_count": 143,
   "id": "182199ae-d688-4851-87a8-59eac5bc5b45",
   "metadata": {},
   "outputs": [
    {
     "name": "stdout",
     "output_type": "stream",
     "text": [
      "1471403\n"
     ]
    }
   ],
   "source": [
    "print(sentinel_1.duplicated(subset=['PID', 'date']).sum())"
   ]
  },
  {
   "cell_type": "code",
   "execution_count": 155,
   "id": "3b556e0e-74c6-4199-b7b8-f8e792bd3742",
   "metadata": {},
   "outputs": [],
   "source": [
    "sentinel_1 = (\n",
    "    sentinel_1.groupby(['PID', 'date'])[['VH','VV','relativeOrbitNumber_start']]\n",
    "    .median()\n",
    "    .reset_index()\n",
    ")\n"
   ]
  },
  {
   "cell_type": "code",
   "execution_count": 157,
   "id": "1d178bc9-012b-4347-9fae-68de25ed5fe5",
   "metadata": {},
   "outputs": [],
   "source": [
    "sentinel_1.to_csv('sentinel_1_clean.csv', index=False)"
   ]
  },
  {
   "cell_type": "code",
   "execution_count": 156,
   "id": "f7bf9f10-2522-44ad-8a10-9007d99c3e87",
   "metadata": {},
   "outputs": [
    {
     "data": {
      "text/html": [
       "<div>\n",
       "<style scoped>\n",
       "    .dataframe tbody tr th:only-of-type {\n",
       "        vertical-align: middle;\n",
       "    }\n",
       "\n",
       "    .dataframe tbody tr th {\n",
       "        vertical-align: top;\n",
       "    }\n",
       "\n",
       "    .dataframe thead th {\n",
       "        text-align: right;\n",
       "    }\n",
       "</style>\n",
       "<table border=\"1\" class=\"dataframe\">\n",
       "  <thead>\n",
       "    <tr style=\"text-align: right;\">\n",
       "      <th></th>\n",
       "      <th>PID</th>\n",
       "      <th>date</th>\n",
       "      <th>VH</th>\n",
       "      <th>VV</th>\n",
       "      <th>relativeOrbitNumber_start</th>\n",
       "    </tr>\n",
       "  </thead>\n",
       "  <tbody>\n",
       "    <tr>\n",
       "      <th>0</th>\n",
       "      <td>ID_002W8m</td>\n",
       "      <td>2017-01-20</td>\n",
       "      <td>-22.818425</td>\n",
       "      <td>-16.511257</td>\n",
       "      <td>50.0</td>\n",
       "    </tr>\n",
       "    <tr>\n",
       "      <th>1</th>\n",
       "      <td>ID_002W8m</td>\n",
       "      <td>2017-04-08</td>\n",
       "      <td>-26.675698</td>\n",
       "      <td>-20.244435</td>\n",
       "      <td>152.0</td>\n",
       "    </tr>\n",
       "    <tr>\n",
       "      <th>2</th>\n",
       "      <td>ID_002W8m</td>\n",
       "      <td>2017-05-31</td>\n",
       "      <td>-18.184365</td>\n",
       "      <td>-15.039445</td>\n",
       "      <td>50.0</td>\n",
       "    </tr>\n",
       "    <tr>\n",
       "      <th>3</th>\n",
       "      <td>ID_002W8m</td>\n",
       "      <td>2017-07-13</td>\n",
       "      <td>-18.064261</td>\n",
       "      <td>-8.023376</td>\n",
       "      <td>152.0</td>\n",
       "    </tr>\n",
       "    <tr>\n",
       "      <th>4</th>\n",
       "      <td>ID_002W8m</td>\n",
       "      <td>2017-09-28</td>\n",
       "      <td>-18.613407</td>\n",
       "      <td>-9.625051</td>\n",
       "      <td>50.0</td>\n",
       "    </tr>\n",
       "    <tr>\n",
       "      <th>...</th>\n",
       "      <td>...</td>\n",
       "      <td>...</td>\n",
       "      <td>...</td>\n",
       "      <td>...</td>\n",
       "      <td>...</td>\n",
       "    </tr>\n",
       "    <tr>\n",
       "      <th>703867</th>\n",
       "      <td>ID_zzVFDw</td>\n",
       "      <td>2019-11-07</td>\n",
       "      <td>-14.869617</td>\n",
       "      <td>-9.049269</td>\n",
       "      <td>79.0</td>\n",
       "    </tr>\n",
       "    <tr>\n",
       "      <th>703868</th>\n",
       "      <td>ID_zzVFDw</td>\n",
       "      <td>2019-11-19</td>\n",
       "      <td>-15.019815</td>\n",
       "      <td>-5.202753</td>\n",
       "      <td>79.0</td>\n",
       "    </tr>\n",
       "    <tr>\n",
       "      <th>703869</th>\n",
       "      <td>ID_zzVFDw</td>\n",
       "      <td>2019-12-01</td>\n",
       "      <td>-14.605878</td>\n",
       "      <td>-6.827098</td>\n",
       "      <td>79.0</td>\n",
       "    </tr>\n",
       "    <tr>\n",
       "      <th>703870</th>\n",
       "      <td>ID_zzVFDw</td>\n",
       "      <td>2019-12-13</td>\n",
       "      <td>-16.319907</td>\n",
       "      <td>-6.621517</td>\n",
       "      <td>79.0</td>\n",
       "    </tr>\n",
       "    <tr>\n",
       "      <th>703871</th>\n",
       "      <td>ID_zzVFDw</td>\n",
       "      <td>2019-12-25</td>\n",
       "      <td>-15.144291</td>\n",
       "      <td>-6.530442</td>\n",
       "      <td>79.0</td>\n",
       "    </tr>\n",
       "  </tbody>\n",
       "</table>\n",
       "<p>703872 rows × 5 columns</p>\n",
       "</div>"
      ],
      "text/plain": [
       "              PID       date         VH         VV  relativeOrbitNumber_start\n",
       "0       ID_002W8m 2017-01-20 -22.818425 -16.511257                       50.0\n",
       "1       ID_002W8m 2017-04-08 -26.675698 -20.244435                      152.0\n",
       "2       ID_002W8m 2017-05-31 -18.184365 -15.039445                       50.0\n",
       "3       ID_002W8m 2017-07-13 -18.064261  -8.023376                      152.0\n",
       "4       ID_002W8m 2017-09-28 -18.613407  -9.625051                       50.0\n",
       "...           ...        ...        ...        ...                        ...\n",
       "703867  ID_zzVFDw 2019-11-07 -14.869617  -9.049269                       79.0\n",
       "703868  ID_zzVFDw 2019-11-19 -15.019815  -5.202753                       79.0\n",
       "703869  ID_zzVFDw 2019-12-01 -14.605878  -6.827098                       79.0\n",
       "703870  ID_zzVFDw 2019-12-13 -16.319907  -6.621517                       79.0\n",
       "703871  ID_zzVFDw 2019-12-25 -15.144291  -6.530442                       79.0\n",
       "\n",
       "[703872 rows x 5 columns]"
      ]
     },
     "execution_count": 156,
     "metadata": {},
     "output_type": "execute_result"
    }
   ],
   "source": [
    "sentinel_1"
   ]
  },
  {
   "cell_type": "markdown",
   "id": "d710899c-bf59-46ca-905e-9e29a7da881e",
   "metadata": {},
   "source": [
    "# sentinel_2"
   ]
  },
  {
   "cell_type": "code",
   "execution_count": 171,
   "id": "7d258b29-6a67-46be-af5b-076fd9093840",
   "metadata": {},
   "outputs": [
    {
     "name": "stdout",
     "output_type": "stream",
     "text": [
      "Sentinel-2 Columns:\n",
      " Index(['B1', 'B11', 'B12', 'B2', 'B3', 'B4', 'B5', 'B6', 'B7', 'B8', 'B8A',\n",
      "       'B9', 'CLOUDY_PIXEL_PERCENTAGE', 'MEAN_SOLAR_ZENITH_ANGLE',\n",
      "       'NODATA_PIXEL_PERCENTAGE', 'SENSING_ORBIT_NUMBER', 'SPACECRAFT_NAME',\n",
      "       'date', 'PID'],\n",
      "      dtype='object') \n",
      "\n"
     ]
    }
   ],
   "source": [
    "print(\"Sentinel-2 Columns:\\n\", sentinel_2.columns, \"\\n\")"
   ]
  },
  {
   "cell_type": "code",
   "execution_count": 172,
   "id": "c4e94d1d-804a-4170-ab80-7fb914cbcdbc",
   "metadata": {},
   "outputs": [
    {
     "data": {
      "text/plain": [
       "B1                         0\n",
       "B11                        0\n",
       "B12                        0\n",
       "B2                         0\n",
       "B3                         0\n",
       "B4                         0\n",
       "B5                         0\n",
       "B6                         0\n",
       "B7                         0\n",
       "B8                         0\n",
       "B8A                        0\n",
       "B9                         0\n",
       "CLOUDY_PIXEL_PERCENTAGE    0\n",
       "MEAN_SOLAR_ZENITH_ANGLE    0\n",
       "NODATA_PIXEL_PERCENTAGE    0\n",
       "SENSING_ORBIT_NUMBER       0\n",
       "SPACECRAFT_NAME            0\n",
       "date                       0\n",
       "PID                        0\n",
       "dtype: int64"
      ]
     },
     "execution_count": 172,
     "metadata": {},
     "output_type": "execute_result"
    }
   ],
   "source": [
    "sentinel_2.isnull().sum()"
   ]
  },
  {
   "cell_type": "code",
   "execution_count": null,
   "id": "2addcc8d-5cc8-42e9-99f1-1ef094a06496",
   "metadata": {},
   "outputs": [],
   "source": [
    "# One-hot encode 'SENSING_ORBIT_NUMBER' and convert booleans to integers\n",
    "orbit_dummies = pd.get_dummies(sentinel_2['SENSING_ORBIT_NUMBER'], prefix='orbit').astype(int)\n",
    "\n",
    "# Concatenate the one-hot encoded columns back to the dataframe\n",
    "sentinel_2 = pd.concat([sentinel_2, orbit_dummies], axis=1)\n",
    "\n",
    "# Drop the original column if you want\n",
    "sentinel_2 = sentinel_2.drop(columns=['SENSING_ORBIT_NUMBER','SPACECRAFT_NAME'])\n"
   ]
  },
  {
   "cell_type": "code",
   "execution_count": 189,
   "id": "56797bf0-edbf-41fd-a468-04e69d8eb445",
   "metadata": {},
   "outputs": [],
   "source": [
    "# Using relaxed nodata threshold to keep more data\n",
    "cloud_threshold = 20.0\n",
    "nodata_threshold = 20.0\n",
    "sentinel_2 = sentinel_2[\n",
    "    (sentinel_2['CLOUDY_PIXEL_PERCENTAGE'] <= cloud_threshold) &\n",
    "    (sentinel_2['NODATA_PIXEL_PERCENTAGE'] <= nodata_threshold)\n",
    "].copy()\n"
   ]
  },
  {
   "cell_type": "code",
   "execution_count": 190,
   "id": "4d5d453f-ae0c-42bf-9f36-ce91d6f42e87",
   "metadata": {},
   "outputs": [
    {
     "name": "stdout",
     "output_type": "stream",
     "text": [
      "6764\n"
     ]
    }
   ],
   "source": [
    "\n",
    "print(len(sentinel_2))"
   ]
  },
  {
   "cell_type": "code",
   "execution_count": 195,
   "id": "e2779f93-5ee4-458f-b784-582d8f082d22",
   "metadata": {},
   "outputs": [
    {
     "data": {
      "text/plain": [
       "Index(['B1', 'B11', 'B12', 'B2', 'B3', 'B4', 'B5', 'B6', 'B7', 'B8', 'B8A',\n",
       "       'B9', 'date', 'PID', 'orbit_35.0', 'orbit_49.0', 'orbit_135.0'],\n",
       "      dtype='object')"
      ]
     },
     "execution_count": 195,
     "metadata": {},
     "output_type": "execute_result"
    }
   ],
   "source": [
    "sentinel_2.columns"
   ]
  },
  {
   "cell_type": "code",
   "execution_count": 193,
   "id": "80e2f4da-2681-4d04-bb21-a655523aa8e7",
   "metadata": {},
   "outputs": [],
   "source": [
    "sentinel_2.drop(columns=['CLOUDY_PIXEL_PERCENTAGE','MEAN_SOLAR_ZENITH_ANGLE','NODATA_PIXEL_PERCENTAGE'],inplace=True)"
   ]
  },
  {
   "cell_type": "code",
   "execution_count": 196,
   "id": "ebdad1f8-eb3c-4a20-a0cd-c106ba8e82e1",
   "metadata": {},
   "outputs": [],
   "source": [
    "sentinel_2=sentinel_2[['PID','date','B1', 'B11', 'B12', 'B2', 'B3', 'B4', 'B5', 'B6', 'B7', 'B8', 'B8A',\n",
    "       'B9','orbit_35.0','orbit_49.0','orbit_135.0']]"
   ]
  },
  {
   "cell_type": "code",
   "execution_count": 200,
   "id": "3cfe5285-c15a-4231-831e-00dd04a90f7a",
   "metadata": {},
   "outputs": [],
   "source": [
    "sentinel_2.drop(columns=['orbit_35.0','orbit_49.0','orbit_135.0'],inplace=True)"
   ]
  },
  {
   "cell_type": "code",
   "execution_count": 202,
   "id": "8fb0c206-71d2-482a-81ed-139852a79477",
   "metadata": {},
   "outputs": [
    {
     "name": "stdout",
     "output_type": "stream",
     "text": [
      "0\n"
     ]
    }
   ],
   "source": [
    "print(sentinel_2.duplicated().sum())"
   ]
  },
  {
   "cell_type": "code",
   "execution_count": 203,
   "id": "d1ad3fbd-190e-4ad0-aed1-62914410449c",
   "metadata": {},
   "outputs": [
    {
     "name": "stdout",
     "output_type": "stream",
     "text": [
      "4565\n"
     ]
    }
   ],
   "source": [
    "print(sentinel_2.duplicated(subset=['PID', 'date']).sum())"
   ]
  },
  {
   "cell_type": "code",
   "execution_count": 204,
   "id": "a15b84ac-8367-4432-ab50-ecec94e38c14",
   "metadata": {},
   "outputs": [],
   "source": [
    "sentinel_2= sentinel_2.groupby(['PID', 'date']).median().reset_index()"
   ]
  },
  {
   "cell_type": "code",
   "execution_count": 208,
   "id": "cad53efa-bc7b-4e1f-b66f-591644fb1671",
   "metadata": {},
   "outputs": [],
   "source": [
    "sentinel_2.drop(columns=['B1','B9'],inplace=True)"
   ]
  },
  {
   "cell_type": "code",
   "execution_count": 209,
   "id": "08e3e13f-6fbb-4ba0-9360-afa93256b0bc",
   "metadata": {},
   "outputs": [
    {
     "data": {
      "text/html": [
       "<div>\n",
       "<style scoped>\n",
       "    .dataframe tbody tr th:only-of-type {\n",
       "        vertical-align: middle;\n",
       "    }\n",
       "\n",
       "    .dataframe tbody tr th {\n",
       "        vertical-align: top;\n",
       "    }\n",
       "\n",
       "    .dataframe thead th {\n",
       "        text-align: right;\n",
       "    }\n",
       "</style>\n",
       "<table border=\"1\" class=\"dataframe\">\n",
       "  <thead>\n",
       "    <tr style=\"text-align: right;\">\n",
       "      <th></th>\n",
       "      <th>PID</th>\n",
       "      <th>date</th>\n",
       "      <th>B11</th>\n",
       "      <th>B12</th>\n",
       "      <th>B2</th>\n",
       "      <th>B3</th>\n",
       "      <th>B4</th>\n",
       "      <th>B5</th>\n",
       "      <th>B6</th>\n",
       "      <th>B7</th>\n",
       "      <th>B8</th>\n",
       "      <th>B8A</th>\n",
       "    </tr>\n",
       "  </thead>\n",
       "  <tbody>\n",
       "    <tr>\n",
       "      <th>0</th>\n",
       "      <td>ID_002W8m</td>\n",
       "      <td>2019-12-18</td>\n",
       "      <td>2195.5</td>\n",
       "      <td>1669.5</td>\n",
       "      <td>367.0</td>\n",
       "      <td>541.5</td>\n",
       "      <td>682.0</td>\n",
       "      <td>967.5</td>\n",
       "      <td>1344.0</td>\n",
       "      <td>1533.5</td>\n",
       "      <td>1531.5</td>\n",
       "      <td>1705.5</td>\n",
       "    </tr>\n",
       "    <tr>\n",
       "      <th>1</th>\n",
       "      <td>ID_00Mug5</td>\n",
       "      <td>2019-12-18</td>\n",
       "      <td>1526.0</td>\n",
       "      <td>974.5</td>\n",
       "      <td>445.0</td>\n",
       "      <td>657.0</td>\n",
       "      <td>783.0</td>\n",
       "      <td>1055.0</td>\n",
       "      <td>1470.0</td>\n",
       "      <td>1684.0</td>\n",
       "      <td>1923.0</td>\n",
       "      <td>1849.5</td>\n",
       "    </tr>\n",
       "    <tr>\n",
       "      <th>2</th>\n",
       "      <td>ID_03sGRz</td>\n",
       "      <td>2019-12-18</td>\n",
       "      <td>2139.0</td>\n",
       "      <td>1355.0</td>\n",
       "      <td>323.0</td>\n",
       "      <td>556.5</td>\n",
       "      <td>606.0</td>\n",
       "      <td>1168.0</td>\n",
       "      <td>1738.0</td>\n",
       "      <td>2035.5</td>\n",
       "      <td>1962.0</td>\n",
       "      <td>2305.5</td>\n",
       "    </tr>\n",
       "    <tr>\n",
       "      <th>3</th>\n",
       "      <td>ID_046OrE</td>\n",
       "      <td>2019-12-18</td>\n",
       "      <td>2325.0</td>\n",
       "      <td>1672.0</td>\n",
       "      <td>464.0</td>\n",
       "      <td>797.5</td>\n",
       "      <td>1147.0</td>\n",
       "      <td>1398.0</td>\n",
       "      <td>1735.0</td>\n",
       "      <td>1934.0</td>\n",
       "      <td>2046.0</td>\n",
       "      <td>2153.0</td>\n",
       "    </tr>\n",
       "    <tr>\n",
       "      <th>4</th>\n",
       "      <td>ID_04AslO</td>\n",
       "      <td>2019-12-18</td>\n",
       "      <td>1339.0</td>\n",
       "      <td>725.5</td>\n",
       "      <td>150.0</td>\n",
       "      <td>321.0</td>\n",
       "      <td>263.0</td>\n",
       "      <td>662.5</td>\n",
       "      <td>1669.5</td>\n",
       "      <td>2052.5</td>\n",
       "      <td>2069.0</td>\n",
       "      <td>2253.5</td>\n",
       "    </tr>\n",
       "    <tr>\n",
       "      <th>...</th>\n",
       "      <td>...</td>\n",
       "      <td>...</td>\n",
       "      <td>...</td>\n",
       "      <td>...</td>\n",
       "      <td>...</td>\n",
       "      <td>...</td>\n",
       "      <td>...</td>\n",
       "      <td>...</td>\n",
       "      <td>...</td>\n",
       "      <td>...</td>\n",
       "      <td>...</td>\n",
       "      <td>...</td>\n",
       "    </tr>\n",
       "    <tr>\n",
       "      <th>2194</th>\n",
       "      <td>ID_zuLVyR</td>\n",
       "      <td>2019-12-18</td>\n",
       "      <td>1758.5</td>\n",
       "      <td>1029.0</td>\n",
       "      <td>280.5</td>\n",
       "      <td>651.5</td>\n",
       "      <td>572.0</td>\n",
       "      <td>1215.5</td>\n",
       "      <td>2431.5</td>\n",
       "      <td>2788.5</td>\n",
       "      <td>2895.0</td>\n",
       "      <td>2944.0</td>\n",
       "    </tr>\n",
       "    <tr>\n",
       "      <th>2195</th>\n",
       "      <td>ID_zv8S8L</td>\n",
       "      <td>2019-06-21</td>\n",
       "      <td>3017.0</td>\n",
       "      <td>2709.0</td>\n",
       "      <td>1751.0</td>\n",
       "      <td>2068.0</td>\n",
       "      <td>2414.0</td>\n",
       "      <td>2611.0</td>\n",
       "      <td>2820.0</td>\n",
       "      <td>2930.0</td>\n",
       "      <td>3132.0</td>\n",
       "      <td>2979.0</td>\n",
       "    </tr>\n",
       "    <tr>\n",
       "      <th>2196</th>\n",
       "      <td>ID_zv8S8L</td>\n",
       "      <td>2019-10-04</td>\n",
       "      <td>2577.0</td>\n",
       "      <td>1948.0</td>\n",
       "      <td>1468.0</td>\n",
       "      <td>1913.0</td>\n",
       "      <td>1830.0</td>\n",
       "      <td>2537.0</td>\n",
       "      <td>3471.0</td>\n",
       "      <td>3639.0</td>\n",
       "      <td>3702.0</td>\n",
       "      <td>3797.0</td>\n",
       "    </tr>\n",
       "    <tr>\n",
       "      <th>2197</th>\n",
       "      <td>ID_zvd9BI</td>\n",
       "      <td>2019-12-18</td>\n",
       "      <td>868.0</td>\n",
       "      <td>519.0</td>\n",
       "      <td>204.0</td>\n",
       "      <td>348.0</td>\n",
       "      <td>324.5</td>\n",
       "      <td>635.0</td>\n",
       "      <td>1233.0</td>\n",
       "      <td>1346.0</td>\n",
       "      <td>1295.5</td>\n",
       "      <td>1483.0</td>\n",
       "    </tr>\n",
       "    <tr>\n",
       "      <th>2198</th>\n",
       "      <td>ID_zwuHKf</td>\n",
       "      <td>2019-12-18</td>\n",
       "      <td>2366.0</td>\n",
       "      <td>1627.0</td>\n",
       "      <td>472.0</td>\n",
       "      <td>808.0</td>\n",
       "      <td>1146.0</td>\n",
       "      <td>1466.0</td>\n",
       "      <td>1943.0</td>\n",
       "      <td>2125.0</td>\n",
       "      <td>2179.0</td>\n",
       "      <td>2367.0</td>\n",
       "    </tr>\n",
       "  </tbody>\n",
       "</table>\n",
       "<p>2199 rows × 12 columns</p>\n",
       "</div>"
      ],
      "text/plain": [
       "            PID       date     B11     B12      B2      B3      B4      B5  \\\n",
       "0     ID_002W8m 2019-12-18  2195.5  1669.5   367.0   541.5   682.0   967.5   \n",
       "1     ID_00Mug5 2019-12-18  1526.0   974.5   445.0   657.0   783.0  1055.0   \n",
       "2     ID_03sGRz 2019-12-18  2139.0  1355.0   323.0   556.5   606.0  1168.0   \n",
       "3     ID_046OrE 2019-12-18  2325.0  1672.0   464.0   797.5  1147.0  1398.0   \n",
       "4     ID_04AslO 2019-12-18  1339.0   725.5   150.0   321.0   263.0   662.5   \n",
       "...         ...        ...     ...     ...     ...     ...     ...     ...   \n",
       "2194  ID_zuLVyR 2019-12-18  1758.5  1029.0   280.5   651.5   572.0  1215.5   \n",
       "2195  ID_zv8S8L 2019-06-21  3017.0  2709.0  1751.0  2068.0  2414.0  2611.0   \n",
       "2196  ID_zv8S8L 2019-10-04  2577.0  1948.0  1468.0  1913.0  1830.0  2537.0   \n",
       "2197  ID_zvd9BI 2019-12-18   868.0   519.0   204.0   348.0   324.5   635.0   \n",
       "2198  ID_zwuHKf 2019-12-18  2366.0  1627.0   472.0   808.0  1146.0  1466.0   \n",
       "\n",
       "          B6      B7      B8     B8A  \n",
       "0     1344.0  1533.5  1531.5  1705.5  \n",
       "1     1470.0  1684.0  1923.0  1849.5  \n",
       "2     1738.0  2035.5  1962.0  2305.5  \n",
       "3     1735.0  1934.0  2046.0  2153.0  \n",
       "4     1669.5  2052.5  2069.0  2253.5  \n",
       "...      ...     ...     ...     ...  \n",
       "2194  2431.5  2788.5  2895.0  2944.0  \n",
       "2195  2820.0  2930.0  3132.0  2979.0  \n",
       "2196  3471.0  3639.0  3702.0  3797.0  \n",
       "2197  1233.0  1346.0  1295.5  1483.0  \n",
       "2198  1943.0  2125.0  2179.0  2367.0  \n",
       "\n",
       "[2199 rows x 12 columns]"
      ]
     },
     "execution_count": 209,
     "metadata": {},
     "output_type": "execute_result"
    }
   ],
   "source": [
    "sentinel_2"
   ]
  },
  {
   "cell_type": "code",
   "execution_count": 210,
   "id": "0a4db412-66ae-4c99-bd58-28e474dcedcd",
   "metadata": {},
   "outputs": [],
   "source": [
    "sentinel_2.to_csv('sentinel_2_clean.csv', index=False)"
   ]
  },
  {
   "cell_type": "code",
   "execution_count": null,
   "id": "483849d0-1828-4f90-9a60-38097cff09bf",
   "metadata": {},
   "outputs": [],
   "source": []
  }
 ],
 "metadata": {
  "kernelspec": {
   "display_name": "Python 3 (ipykernel)",
   "language": "python",
   "name": "python3"
  },
  "language_info": {
   "codemirror_mode": {
    "name": "ipython",
    "version": 3
   },
   "file_extension": ".py",
   "mimetype": "text/x-python",
   "name": "python",
   "nbconvert_exporter": "python",
   "pygments_lexer": "ipython3",
   "version": "3.13.3"
  }
 },
 "nbformat": 4,
 "nbformat_minor": 5
}
